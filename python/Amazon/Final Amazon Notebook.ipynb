{
 "cells": [
  {
   "cell_type": "code",
   "execution_count": 4,
   "metadata": {
    "collapsed": false
   },
   "outputs": [
    {
     "name": "stderr",
     "output_type": "stream",
     "text": [
      "/Users/JSoyinka/anaconda2/lib/python2.7/site-packages/matplotlib/font_manager.py:273: UserWarning: Matplotlib is building the font cache using fc-list. This may take a moment.\n",
      "  warnings.warn('Matplotlib is building the font cache using fc-list. This may take a moment.')\n"
     ]
    }
   ],
   "source": [
    "import numpy as np\n",
    "import pandas as pd\n",
    "from urllib2 import Request, urlopen\n",
    "import json\n",
    "import sys\n",
    "from pandas.io.json import json_normalize\n",
    "from sklearn.feature_extraction.text import CountVectorizer\n",
    "from sklearn.preprocessing import LabelEncoder\n",
    "from sklearn.decomposition import PCA\n",
    "from sklearn.feature_extraction.text import TfidfTransformer, TfidfVectorizer\n",
    "from sklearn.naive_bayes import MultinomialNB\n",
    "from sklearn.pipeline import Pipeline\n",
    "from sklearn.grid_search import GridSearchCV\n",
    "from sklearn.cross_validation import KFold, cross_val_score\n",
    "from sklearn.ensemble import RandomForestClassifier\n",
    "from sklearn.linear_model import LogisticRegression as LogReg\n",
    "from sklearn.linear_model import LogisticRegressionCV as LogRegCV\n",
    "from sklearn import svm\n",
    "import matplotlib\n",
    "import matplotlib.pyplot as plt\n",
    "from mpl_toolkits.mplot3d import Axes3D\n",
    "from sklearn.preprocessing import LabelEncoder\n",
    "from sklearn.metrics import confusion_matrix\n",
    "%matplotlib inline"
   ]
  },
  {
   "cell_type": "code",
   "execution_count": 5,
   "metadata": {
    "collapsed": false
   },
   "outputs": [
    {
     "name": "stdout",
     "output_type": "stream",
     "text": [
      "173323 Duplicate Observations Dropped\n"
     ]
    }
   ],
   "source": [
    "# Import Dataset\n",
    "data = pd.read_csv(\"Reviews.csv\", index_col=0)\n",
    "\n",
    "no_dupes = data.drop(data[data.duplicated(subset=['Time', 'Summary', 'Text', 'UserId'])].index)\n",
    "print data.shape[0] - no_dupes.shape[0], \"Duplicate Observations Dropped\"\n",
    "\n",
    "no_dupes.to_csv(\"cleaned_data.csv\")"
   ]
  },
  {
   "cell_type": "code",
   "execution_count": 6,
   "metadata": {
    "collapsed": false
   },
   "outputs": [
    {
     "data": {
      "text/html": [
       "<div>\n",
       "<table border=\"1\" class=\"dataframe\">\n",
       "  <thead>\n",
       "    <tr style=\"text-align: right;\">\n",
       "      <th></th>\n",
       "      <th>Id</th>\n",
       "      <th>ProductId</th>\n",
       "      <th>UserId</th>\n",
       "      <th>ProfileName</th>\n",
       "      <th>HelpfulnessNumerator</th>\n",
       "      <th>HelpfulnessDenominator</th>\n",
       "      <th>Score</th>\n",
       "      <th>Time</th>\n",
       "      <th>Summary</th>\n",
       "      <th>Text</th>\n",
       "    </tr>\n",
       "  </thead>\n",
       "  <tbody>\n",
       "    <tr>\n",
       "      <th>0</th>\n",
       "      <td>1</td>\n",
       "      <td>B001E4KFG0</td>\n",
       "      <td>A3SGXH7AUHU8GW</td>\n",
       "      <td>delmartian</td>\n",
       "      <td>1</td>\n",
       "      <td>1</td>\n",
       "      <td>5</td>\n",
       "      <td>1303862400</td>\n",
       "      <td>Good Quality Dog Food</td>\n",
       "      <td>I have bought several of the Vitality canned d...</td>\n",
       "    </tr>\n",
       "    <tr>\n",
       "      <th>1</th>\n",
       "      <td>2</td>\n",
       "      <td>B00813GRG4</td>\n",
       "      <td>A1D87F6ZCVE5NK</td>\n",
       "      <td>dll pa</td>\n",
       "      <td>0</td>\n",
       "      <td>0</td>\n",
       "      <td>1</td>\n",
       "      <td>1346976000</td>\n",
       "      <td>Not as Advertised</td>\n",
       "      <td>Product arrived labeled as Jumbo Salted Peanut...</td>\n",
       "    </tr>\n",
       "    <tr>\n",
       "      <th>2</th>\n",
       "      <td>3</td>\n",
       "      <td>B000LQOCH0</td>\n",
       "      <td>ABXLMWJIXXAIN</td>\n",
       "      <td>Natalia Corres \"Natalia Corres\"</td>\n",
       "      <td>1</td>\n",
       "      <td>1</td>\n",
       "      <td>4</td>\n",
       "      <td>1219017600</td>\n",
       "      <td>\"Delight\" says it all</td>\n",
       "      <td>This is a confection that has been around a fe...</td>\n",
       "    </tr>\n",
       "  </tbody>\n",
       "</table>\n",
       "</div>"
      ],
      "text/plain": [
       "   Id   ProductId          UserId                      ProfileName  \\\n",
       "0   1  B001E4KFG0  A3SGXH7AUHU8GW                       delmartian   \n",
       "1   2  B00813GRG4  A1D87F6ZCVE5NK                           dll pa   \n",
       "2   3  B000LQOCH0   ABXLMWJIXXAIN  Natalia Corres \"Natalia Corres\"   \n",
       "\n",
       "   HelpfulnessNumerator  HelpfulnessDenominator  Score        Time  \\\n",
       "0                     1                       1      5  1303862400   \n",
       "1                     0                       0      1  1346976000   \n",
       "2                     1                       1      4  1219017600   \n",
       "\n",
       "                 Summary                                               Text  \n",
       "0  Good Quality Dog Food  I have bought several of the Vitality canned d...  \n",
       "1      Not as Advertised  Product arrived labeled as Jumbo Salted Peanut...  \n",
       "2  \"Delight\" says it all  This is a confection that has been around a fe...  "
      ]
     },
     "execution_count": 6,
     "metadata": {},
     "output_type": "execute_result"
    }
   ],
   "source": [
    "cleaned_data = pd.read_csv(\"cleaned_data.csv\")\n",
    "cleaned_data.head(n=3)"
   ]
  },
  {
   "cell_type": "markdown",
   "metadata": {},
   "source": [
    "Sort to reviews where the denominator is over 15."
   ]
  },
  {
   "cell_type": "code",
   "execution_count": 9,
   "metadata": {
    "collapsed": false
   },
   "outputs": [
    {
     "data": {
      "text/plain": [
       "(7786, 10)"
      ]
     },
     "execution_count": 9,
     "metadata": {},
     "output_type": "execute_result"
    }
   ],
   "source": [
    "rand_1400 = cleaned_data[cleaned_data[\"HelpfulnessDenominator\"] > 15]\n",
    "rand_1400.shape"
   ]
  },
  {
   "cell_type": "code",
   "execution_count": 10,
   "metadata": {
    "collapsed": false
   },
   "outputs": [
    {
     "data": {
      "text/plain": [
       "'The original set has 395131 entries, while our testing set only has 7786.'"
      ]
     },
     "execution_count": 10,
     "metadata": {},
     "output_type": "execute_result"
    }
   ],
   "source": [
    "'The original set has {0} entries, while our testing set only has {1}.'.format(cleaned_data.shape[0], rand_1400.shape[0])"
   ]
  },
  {
   "cell_type": "code",
   "execution_count": 11,
   "metadata": {
    "collapsed": false
   },
   "outputs": [
    {
     "name": "stdout",
     "output_type": "stream",
     "text": [
      "Range of Review Lengths: 6 words - 2233 words\n",
      "Mean of Review Lengths: 158.85550989\n"
     ]
    },
    {
     "data": {
      "image/png": "[encoded data removed]",
      "text/plain": [
       "<matplotlib.figure.Figure at 0x14a6cbe50>"
      ]
     },
     "metadata": {},
     "output_type": "display_data"
    }
   ],
   "source": [
    "# Splits each review by spaces.\n",
    "lengths = rand_1400['Text'].apply(lambda x: len(x.split(' ')))\n",
    "\n",
    "print 'Range of Review Lengths: {0} words - {1} words'.format(np.min(lengths), np.max(lengths))\n",
    "print 'Mean of Review Lengths: {}'.format(np.mean(lengths))\n",
    "\n",
    "fig, ax = plt.subplots(1, 1, figsize=(15, 6))\n",
    "\n",
    "# Histogram of the word counts in each post\n",
    "ax.hist(lengths, color='blue', bins=60, alpha=0.5)\n",
    "\n",
    "ax.set_xlabel('Number of Words in Post')\n",
    "ax.set_ylabel('Number of Posts')\n",
    "ax.set_title('Histogram of Length of Posts')\n",
    "\n",
    "plt.show()"
   ]
  },
  {
   "cell_type": "markdown",
   "metadata": {},
   "source": [
    "Create a vectorizer. Get the names of all the words. Get the frequency of the words. Zip that shit together and return the top 20 words, using the frequency part of the tuple."
   ]
  },
  {
   "cell_type": "code",
   "execution_count": 12,
   "metadata": {
    "collapsed": true
   },
   "outputs": [],
   "source": [
    "# Create a text vectorizer (turns text into array of numbers)\n",
    "vectorizer = CountVectorizer(stop_words='english', min_df=1, binary=True)\n",
    "\n",
    "# Get all the text from data\n",
    "corpus = rand_1400['Text'].values\n",
    "\n",
    "# Turn each text into an array of word counts\n",
    "x = vectorizer.fit_transform(corpus)\n",
    "x = x.toarray()\n",
    "\n",
    "# Get the names of all the words we're counting\n",
    "feature_names = vectorizer.get_feature_names()\n",
    "\n",
    "#Number of top words\n",
    "n = 20\n",
    "\n",
    "#Count the number of time each word occurs in the entire dataset\n",
    "word_freq = x.sum(axis=0)\n",
    "\n",
    "#Sort the words by their total frequency in the dataset\n",
    "words = zip(word_freq, feature_names)\n",
    "top_words = (sorted(words, key=lambda t: t[0], reverse=True))[:n]"
   ]
  },
  {
   "cell_type": "markdown",
   "metadata": {},
   "source": [
    "Plot the top 20 words."
   ]
  },
  {
   "cell_type": "code",
   "execution_count": 13,
   "metadata": {
    "collapsed": false
   },
   "outputs": [
    {
     "data": {
      "image/png": "[encoded data removed]",
      "text/plain": [
       "<matplotlib.figure.Figure at 0x11a3bb8d0>"
      ]
     },
     "metadata": {},
     "output_type": "display_data"
    }
   ],
   "source": [
    "fig, ax = plt.subplots(1, 1, figsize=(15, 6))\n",
    "\n",
    "# Number of bars to use\n",
    "indices = np.arange(n)\n",
    "# Where to put the label under each bar\n",
    "width = 0.5\n",
    "# Bar plot of the frequencies of the top words\n",
    "ax.bar(indices, [word[0] for word in top_words], color='blue', alpha=0.5)\n",
    "\n",
    "ax.set_ylabel('Frequency')\n",
    "ax.set_title('Top ' + str(n) + ' Words')\n",
    "\n",
    "# Label the bars with the top words\n",
    "ax.set_xticks(indices + width)\n",
    "ax.set_xticklabels([word[1] for word in top_words])\n",
    "\n",
    "# Turn the labels sideways so they don't overlap\n",
    "labels = ax.get_xticklabels()\n",
    "plt.setp(labels, rotation=30, fontsize=10)\n",
    "\n",
    "plt.show()"
   ]
  },
  {
   "cell_type": "markdown",
   "metadata": {},
   "source": [
    "Create a y np.array using the helpfulness numerator over the denominator."
   ]
  },
  {
   "cell_type": "code",
   "execution_count": 19,
   "metadata": {
    "collapsed": false
   },
   "outputs": [
    {
     "name": "stdout",
     "output_type": "stream",
     "text": [
      "Numerator values: [ 5  5 14 32 24]\n",
      "Denominator values: [ 16.  27.  17.  36.  27.]\n",
      "Resulting quotient: [ 0.3125      0.18518519  0.82352941  0.88888889  0.88888889]\n"
     ]
    }
   ],
   "source": [
    "# Encode the class labels, things sometimes get funky if you don't do this.\n",
    "y_numerator = rand_1400['HelpfulnessNumerator'].values\n",
    "y_denominator = (rand_1400['HelpfulnessDenominator'].values).astype(float)\n",
    "y = y_numerator / y_denominator\n",
    "\n",
    "print \"Numerator values:\", y_numerator[20:25]\n",
    "print \"Denominator values:\", y_denominator[20:25]\n",
    "print \"Resulting quotient:\", y[20:25]"
   ]
  },
  {
   "cell_type": "markdown",
   "metadata": {},
   "source": [
    "Check the number of reviews for consistency."
   ]
  },
  {
   "cell_type": "code",
   "execution_count": 20,
   "metadata": {
    "collapsed": false
   },
   "outputs": [
    {
     "name": "stdout",
     "output_type": "stream",
     "text": [
      "Number of sub 50% reviews: 1402\n",
      "Number of sub 100% reviews: 6384\n"
     ]
    }
   ],
   "source": [
    "print 'Number of sub 50% reviews:', len(y[y <= 1./2])\n",
    "print 'Number of sub 100% reviews:', len(y[y > 1./2])"
   ]
  },
  {
   "cell_type": "markdown",
   "metadata": {},
   "source": [
    "Convert to a 1 vs 2 system, where reviews are given a 2 if over half of users found them helpful and a 1 otherwise. Check the number of reviews for consistency."
   ]
  },
  {
   "cell_type": "code",
   "execution_count": 21,
   "metadata": {
    "collapsed": true
   },
   "outputs": [],
   "source": [
    "y[y > 1./2] = 2\n",
    "y[y <= 1./2] = 1"
   ]
  },
  {
   "cell_type": "code",
   "execution_count": 22,
   "metadata": {
    "collapsed": false
   },
   "outputs": [
    {
     "name": "stdout",
     "output_type": "stream",
     "text": [
      "Number of sub 50% reviews: 1402\n",
      "Number of sub 100% reviews: 6384\n"
     ]
    }
   ],
   "source": [
    "print 'Number of sub 50% reviews:', len(y[y == 1])\n",
    "print 'Number of sub 100% reviews:', len(y[y == 2])"
   ]
  },
  {
   "cell_type": "markdown",
   "metadata": {},
   "source": [
    "Plot the top 20 words"
   ]
  },
  {
   "cell_type": "code",
   "execution_count": 27,
   "metadata": {
    "collapsed": false
   },
   "outputs": [
    {
     "data": {
      "image/png": "[encoded data removed]",
      "text/plain": [
       "<matplotlib.figure.Figure at 0x12e7b20d0>"
      ]
     },
     "metadata": {},
     "output_type": "display_data"
    }
   ],
   "source": [
    "colors = [\"red\", \"blue\"]\n",
    "percents = [\"Sub 50%\", \"Sub 100%\"]\n",
    "fig, ax = plt.subplots(2, 1, figsize=(15, 10))\n",
    "\n",
    "for i in range(2):\n",
    "    #Number of bars to use\n",
    "    indices = np.arange(n)\n",
    "    #Where to put the label under each bar\n",
    "    width = 0.5\n",
    "\n",
    "    #Count the number of time each word occurs\n",
    "    word_freq = x[y == i+1].sum(axis=0)\n",
    "\n",
    "    # Sort the words by their total frequency in the dataset\n",
    "    words = zip(word_freq, feature_names)\n",
    "    top_words = (sorted(words, key=lambda t: t[0], reverse=True))[:n]\n",
    "\n",
    "    #B ar plot of the frequencies of the top words\n",
    "    ax[i].bar(indices, [word[0] for word in top_words], color=colors[i], alpha=0.5)\n",
    "\n",
    "    ax[i].set_ylabel('Frequency')\n",
    "    ax[i].set_title('Top ' + str(n) + ' Words in ' + percents[i] + ' Helpfulness Reviews')\n",
    "\n",
    "    # Label the bars with the top words\n",
    "    ax[i].set_xticks(indices + width)\n",
    "    ax[i].set_xticklabels([word[1] for word in top_words])\n",
    "\n",
    "    # Turn the labels sideways so they don't overlap\n",
    "    labels = ax[i].get_xticklabels()\n",
    "    plt.setp(labels, rotation=30, fontsize=10)\n",
    "\n",
    "plt.show()"
   ]
  },
  {
   "cell_type": "markdown",
   "metadata": {},
   "source": [
    "Split into a testing and a training set. 2/3 vs. 1/3 respectively. Then run a logistic model on that"
   ]
  },
  {
   "cell_type": "code",
   "execution_count": 28,
   "metadata": {
    "collapsed": false
   },
   "outputs": [
    {
     "name": "stdout",
     "output_type": "stream",
     "text": [
      "Reviews in Training Set: 5183\n",
      "Accuracy on overall test set: 0.830195927776\n",
      "Accuracy on Sub 50% set: 0.197095435685\n",
      "Accuracy on Sub 100% set: 0.974068835455\n"
     ]
    }
   ],
   "source": [
    "# Train/test split\n",
    "n_samples = len(x)\n",
    "train_indices = np.random.uniform(size=n_samples) > 1. / 3.  #Select two thirds for train\n",
    "\n",
    "x_train = x[train_indices]\n",
    "y_train = y[train_indices]\n",
    "print \"Reviews in Training Set: {0}\".format(x_train.shape[0])\n",
    "x_test = x[~train_indices]\n",
    "y_test = y[~train_indices]\n",
    "\n",
    "#Generate array of L2 regularization parameters\n",
    "regularization = 10.**np.arange(-10, 5)\n",
    "\n",
    "#Fit logistic model with cross validation to select the optimal regularization parameter\n",
    "logistic = LogRegCV(cv=5, penalty='l2', Cs=regularization, solver='liblinear', n_jobs=4)\n",
    "logistic.fit(x_train, y_train)\n",
    "\n",
    "#Print results\n",
    "print 'Accuracy on overall test set:', logistic.score(x_test, y_test)\n",
    "print 'Accuracy on Sub 50% set:', logistic.score(x_test[y_test == 1], y_test[y_test == 1])\n",
    "print 'Accuracy on Sub 100% set:', logistic.score(x_test[y_test == 2], y_test[y_test == 2])"
   ]
  },
  {
   "cell_type": "code",
   "execution_count": 29,
   "metadata": {
    "collapsed": true
   },
   "outputs": [],
   "source": [
    "# This function computes the accuracy of logistic regression given cut-offs, min_df, max_df"
   ]
  },
  {
   "cell_type": "code",
   "execution_count": 30,
   "metadata": {
    "collapsed": true
   },
   "outputs": [],
   "source": [
    "def vectorize_classify(min_df, max_df, trials, x, y):\n",
    "    #Create a text vectorizer, removing words with frequency less than min_df or\n",
    "    #greater than max_df\n",
    "    vectorizer = CountVectorizer(stop_words='english', min_df=min_df, max_df=max_df)\n",
    "    #Transform our text into arrays of numbers\n",
    "    corpus = rand_1400['Text'].values\n",
    "    x = vectorizer.fit_transform(corpus)\n",
    "    x = x.toarray()\n",
    "    \n",
    "    #Record overall accuracy rate, accuracy on class 1 and class 2\n",
    "    overall_acc = []\n",
    "    class_2_acc = []\n",
    "    class_1_acc = []\n",
    "    \n",
    "    \n",
    "    n_samples = len(x)\n",
    "    \n",
    "    #Perform logistic regression on a handful of train/test splits\n",
    "    for i in range(trials):\n",
    "        #Print progress\n",
    "        sys.stdout.write(\"\\r{0}% completed\".format((float(i + 1)/trials)*100))\n",
    "        sys.stdout.flush()\n",
    "        \n",
    "        # Train/test split\n",
    "        train_indices = np.random.uniform(size=n_samples) > 1. / 3.  #Select two thirds for train\n",
    "\n",
    "        x_train = x[train_indices]\n",
    "        y_train = y[train_indices]\n",
    "\n",
    "        x_test = x[~train_indices]\n",
    "        y_test = y[~train_indices]\n",
    "\n",
    "        #Generate array of L2 regularization parameters\n",
    "        regularization = 10. ** np.arange(-10, 5)\n",
    "\n",
    "        #Fit logistic model\n",
    "        logistic = LogRegCV(cv=5, \n",
    "                            penalty='l2', \n",
    "                            Cs=regularization, \n",
    "                            solver='liblinear', \n",
    "                            n_jobs=4)\n",
    "        logistic.fit(x_train, y_train)\n",
    "        \n",
    "        overall_acc.append(logistic.score(x_test, y_test))\n",
    "        class_1_acc.append(logistic.score(x_test[y_test == 1], y_test[y_test == 1]))\n",
    "        class_2_acc.append(logistic.score(x_test[y_test == 2], y_test[y_test == 2]))\n",
    "\n",
    "    return (np.mean(overall_acc), \n",
    "            np.mean(class_1_acc),\n",
    "            np.mean(class_2_acc))"
   ]
  },
  {
   "cell_type": "markdown",
   "metadata": {},
   "source": [
    "This takes a long time to run with multiple dataframe configurations, so this is just one example, there weren't many permuations that performed well, and even those didn't meet a suffienct mark in terms of accurate predictions."
   ]
  },
  {
   "cell_type": "code",
   "execution_count": 31,
   "metadata": {
    "collapsed": false
   },
   "outputs": [
    {
     "name": "stdout",
     "output_type": "stream",
     "text": [
      "100.0% completed\n",
      "Min frequency, max frequency: 1 , 100\n",
      "Accuracy on overall test set: 0.821034475193\n",
      "Accuracy on class 1 in test set: 0.0108991128298\n",
      "Accuracy on class 2 in test set: 0.998417565736\n"
     ]
    }
   ],
   "source": [
    "min_df = 1\n",
    "max_df = 100\n",
    "trials = 5\n",
    "overall, class_1, class_2 = vectorize_classify(min_df, max_df, trials, x, y)\n",
    "print '\\nMin frequency, max frequency:', min_df, ',', max_df\n",
    "print 'Accuracy on overall test set:', overall\n",
    "print 'Accuracy on class 1 in test set:', class_1\n",
    "print 'Accuracy on class 2 in test set:', class_2"
   ]
  },
  {
   "cell_type": "markdown",
   "metadata": {},
   "source": [
    "Quick test of c parameters to improve our logistic regression."
   ]
  },
  {
   "cell_type": "code",
   "execution_count": 34,
   "metadata": {
    "collapsed": false
   },
   "outputs": [
    {
     "name": "stdout",
     "output_type": "stream",
     "text": [
      "C= 0.0001 : 0.822496684824\n",
      "C= 0.001 : 0.822496684824\n",
      "C= 0.01 : 0.822496684824\n",
      "C= 0.1 : 0.819601937635\n",
      "C= 1 : 0.806482754831\n",
      "C= 10 : 0.789504988848\n",
      "C= 100 : 0.784101632032\n"
     ]
    },
    {
     "data": {
      "image/png": "[encoded data removed]",
      "text/plain": [
       "<matplotlib.figure.Figure at 0x10a2f0090>"
      ]
     },
     "metadata": {},
     "output_type": "display_data"
    }
   ],
   "source": [
    "cvals = [0.0001, 0.001, 0.01, 0.1, 1, 10, 100]\n",
    "scores = []\n",
    "for c in cvals: #try cross validating the data with different regularization parameters\n",
    "    log_model = LogReg(C=c, penalty='l2') #initiate unregularized logistic regression model\n",
    "    score = cross_val_score(log_model, x_train, y_train, n_jobs=-1).mean() #cross validate\n",
    "    scores.append(score)\n",
    "    print \"C=\",c ,\":\", score\n",
    "    \n",
    "plt.plot(cvals, scores)\n",
    "plt.xscale('log')\n",
    "plt.title(\"Accuracy by Regularization Parameter value\")\n",
    "plt.xlabel(\"Parameter value\")\n",
    "plt.ylabel(\"Accuracy\")\n",
    "plt.grid()\n",
    "plt.show()"
   ]
  },
  {
   "cell_type": "markdown",
   "metadata": {},
   "source": [
    "As one would expect the C value with the highest value overfit, giving us a 19% vs 97% accuracy with Class 1 vs. Class 2, but C = 10 was more balacnced at 43% vs. 89%."
   ]
  },
  {
   "cell_type": "code",
   "execution_count": 44,
   "metadata": {
    "collapsed": false
   },
   "outputs": [
    {
     "name": "stdout",
     "output_type": "stream",
     "text": [
      "(2603,)\n",
      "(2603,)\n",
      "\n",
      "\n",
      "WITH CLASS BALANCE CORRECTION\n",
      "[[ 210  272]\n",
      " [ 217 1904]]\n",
      "\n",
      "False Positive Rate: 0.564315352697\n",
      "False Negative Rate: 0.102310231023\n",
      "True Positive Rate: 0.875\n",
      "True Negative Rate: 0.491803278689\n",
      "\n",
      "Accuracy on 2 Class Helpfulness: 0.897689768977\n",
      "Accuracy on 1 Class Helpfulness: 0.435684647303\n"
     ]
    }
   ],
   "source": [
    "log_model = LogReg(C=10, penalty='l2')\n",
    "log_model.fit(x_train, y_train)\n",
    "y_predict = log_model.predict(x_test)\n",
    "\n",
    "tn, fp, fn, tp = confusion_matrix(y_test, y_predict).ravel() #from sklearn docs\n",
    "print y_predict.shape\n",
    "print y_test.shape\n",
    "print \"\\n\\nWITH CLASS BALANCE CORRECTION\"\n",
    "print confusion_matrix(y_test, y_predict)\n",
    "print\n",
    "print \"False Positive Rate:\", fp/float(fp+tn)\n",
    "print \"False Negative Rate:\", fn/float(fn+tp)\n",
    "print \"True Positive Rate:\", tp/float(tp+fp)\n",
    "print \"True Negative Rate:\", tn/float(tn+fn)\n",
    "print\n",
    "print \"Accuracy on 2 Class Helpfulness:\", np.mean(y_predict[y_test == 2] == y_test[y_test == 2])\n",
    "print \"Accuracy on 1 Class Helpfulness:\", np.mean(y_predict[y_test == 1] == y_test[y_test == 1])"
   ]
  },
  {
   "cell_type": "code",
   "execution_count": 50,
   "metadata": {
    "collapsed": false
   },
   "outputs": [
    {
     "name": "stdout",
     "output_type": "stream",
     "text": [
      "C= 0.0001 : 0.795097560888\n",
      "C= 0.001 : 0.713289565864\n",
      "C= 0.01 : 0.749176679213\n",
      "C= 0.1 : 0.773102910742\n",
      "C= 1 : 0.769437340496\n",
      "C= 10 : 0.765964001301\n",
      "C= 100 : 0.765771100066\n"
     ]
    },
    {
     "data": {
      "image/png": "[encoded data removed]",
      "text/plain": [
       "<matplotlib.figure.Figure at 0x104e8e350>"
      ]
     },
     "metadata": {},
     "output_type": "display_data"
    }
   ],
   "source": [
    "cvals = [0.0001, 0.001, 0.01, 0.1, 1, 10, 100]\n",
    "scores = []\n",
    "for c in cvals: #try cross validating the data with different regularization parameters\n",
    "    svc = svm.LinearSVC(C=c, penalty='l2', class_weight='balanced') #initialize svc\n",
    "    score = cross_val_score(svc, x_train, y_train, n_jobs=-1).mean() #cross validate\n",
    "    scores.append(score)\n",
    "    print \"C=\",c ,\":\", score\n",
    "    \n",
    "plt.plot(cvals, scores)\n",
    "plt.xscale('log')\n",
    "plt.title(\"Accuracy by Regularization Parameter value\")\n",
    "plt.xlabel(\"Parameter value\")\n",
    "plt.ylabel(\"Accuracy\")\n",
    "plt.grid()\n",
    "plt.show()"
   ]
  },
  {
   "cell_type": "code",
   "execution_count": 70,
   "metadata": {
    "collapsed": false
   },
   "outputs": [
    {
     "name": "stdout",
     "output_type": "stream",
     "text": [
      "(2603,)\n",
      "(2603,)\n",
      "\n",
      "\n",
      "WITH CLASS BALANCE CORRECTION\n",
      "[[ 363  119]\n",
      " [ 539 1582]]\n",
      "\n",
      "False Positive Rate: 0.246887966805\n",
      "False Negative Rate: 0.254125412541\n",
      "True Positive Rate: 0.930041152263\n",
      "True Negative Rate: 0.40243902439\n",
      "\n",
      "Accuracy on 2 Class Helpfulness: 0.745874587459\n",
      "Accuracy on 1 Class Helpfulness: 0.753112033195\n"
     ]
    }
   ],
   "source": [
    "svc = svm.LinearSVC(C=.006, penalty='l2', class_weight='balanced') #initialize logistic regression model\n",
    "svc.fit(x_train, list(y_train))\n",
    "y_pred_svc = svc.predict(x_test)\n",
    "\n",
    "tn, fp, fn, tp = confusion_matrix(y_test, y_pred_svc).ravel() #from sklearn docs\n",
    "print y_pred_svc.shape\n",
    "print y_test.shape\n",
    "print \"\\n\\nWITH CLASS BALANCE CORRECTION\"\n",
    "print confusion_matrix(y_test, y_pred_svc)\n",
    "print\n",
    "print \"False Positive Rate:\", fp/float(fp+tn)\n",
    "print \"False Negative Rate:\", fn/float(fn+tp)\n",
    "print \"True Positive Rate:\", tp/float(tp+fp)\n",
    "print \"True Negative Rate:\", tn/float(tn+fn)\n",
    "print\n",
    "print \"Accuracy on 2 Class Helpfulness:\", np.mean(y_pred_svc[y_test == 2] == y_test[y_test == 2])\n",
    "print \"Accuracy on 1 Class Helpfulness:\", np.mean(y_pred_svc[y_test == 1] == y_test[y_test == 1])"
   ]
  },
  {
   "cell_type": "markdown",
   "metadata": {},
   "source": [
    "Small Sampling of Random Forests Tests"
   ]
  },
  {
   "cell_type": "code",
   "execution_count": 80,
   "metadata": {
    "collapsed": false
   },
   "outputs": [
    {
     "name": "stdout",
     "output_type": "stream",
     "text": [
      "5-fold cross validation:\n",
      "Trees: 10 Depth: 2 Score: 0.822495466951\n",
      "Trees: 10 Depth: 3 Score: 0.822502541114\n",
      "Trees: 10 Depth: 4 Score: 0.822497328573\n",
      "Trees: 30 Depth: 2 Score: 0.822493046842\n",
      "Trees: 30 Depth: 3 Score: 0.822496770086\n",
      "Trees: 30 Depth: 4 Score: 0.822501796465\n",
      "Chosen number of trees, depth: 10 , 3\n",
      "Accuracy on 2 Class Helpfulness: 1.0\n",
      "Accuracy on 1 Class Helpfulness: 0.0\n"
     ]
    }
   ],
   "source": [
    "# Parameters for tuning\n",
    "n_trees = np.arange(10, 50, 20)  # Trees and depth are explored on an exponentially growing space,\n",
    "depths = np.arange(2, 5)   # since it is assumed that trees and depth will add accuracy in a decaying fashion.\n",
    "\n",
    "# To keep track of the best model\n",
    "best_score = 0\n",
    "\n",
    "# Run grid search for model with 5-fold cross validation\n",
    "print '5-fold cross validation:'\n",
    "\n",
    "for trees in n_trees:\n",
    "    for depth in depths:\n",
    "        \n",
    "        # Cross validation for every experiment\n",
    "        k_folds = KFold(x_train.shape[0], n_folds=5, shuffle=True)\n",
    "        scores = []\n",
    "        for train_indices, validation_indices in k_folds:\n",
    "            # Generate training data\n",
    "            x_train_cv = x_train[train_indices]\n",
    "            y_train_cv = y_train[train_indices]\n",
    "            # Generate validation data\n",
    "            x_validate = x_train[validation_indices]\n",
    "            y_validate = y_train[validation_indices]      \n",
    "            \n",
    "            # Fit random forest on training data\n",
    "            model = RandomForestClassifier(n_estimators=trees, max_depth=depth)\n",
    "            model.fit(x_train_cv, y_train_cv)\n",
    "            # Score on validation data\n",
    "            scores += [model.score(x_validate, y_validate)]\n",
    "        \n",
    "        # Record and report accuracy\n",
    "        average_score = np.mean(scores)\n",
    "        print \"Trees:\", trees, \"Depth:\", depth, \"Score:\", average_score\n",
    "        \n",
    "        # Update our record of the best parameters see so far\n",
    "        if average_score > best_score:\n",
    "            best_score = average_score\n",
    "            best_trees = trees\n",
    "            best_depth = depth\n",
    "\n",
    "# Fit model on entire train set using chosen number of trees and depth\n",
    "model = RandomForestClassifier(n_estimators=best_trees, max_depth=best_depth)\n",
    "model.fit(x_train, y_train)\n",
    "y_pred_rfc = model.predict(x_test)\n",
    "\n",
    "print 'Chosen number of trees, depth:', best_trees, ',', best_depth\n",
    "print \"Accuracy on 2 Class Helpfulness:\", np.mean(y_pred_rfc[y_test == 2] == y_test[y_test == 2])\n",
    "print \"Accuracy on 1 Class Helpfulness:\", np.mean(y_pred_rfc[y_test == 1] == y_test[y_test == 1])"
   ]
  },
  {
   "cell_type": "code",
   "execution_count": 89,
   "metadata": {
    "collapsed": false
   },
   "outputs": [
    {
     "name": "stdout",
     "output_type": "stream",
     "text": [
      "(2603,)\n",
      "(2603,)\n",
      "\n",
      "\n",
      "WITH CLASS BALANCE CORRECTION\n",
      "[[ 359  123]\n",
      " [ 779 1342]]\n",
      "\n",
      "False Positive Rate: 0.255186721992\n",
      "False Negative Rate: 0.367279585101\n",
      "True Positive Rate: 0.916040955631\n",
      "True Negative Rate: 0.31546572935\n",
      "\n",
      "Accuracy on 2 Class Helpfulness: 0.632720414899\n",
      "Accuracy on 1 Class Helpfulness: 0.744813278008\n"
     ]
    }
   ],
   "source": [
    "model = RandomForestClassifier(n_estimators=300, criterion='gini', \n",
    "                              max_features= 15, max_depth=5, class_weight='balanced')\n",
    "model.fit(x_train, y_train)\n",
    "y_pred_rfc = model.predict(x_test)\n",
    "\n",
    "tn, fp, fn, tp = confusion_matrix(y_test, y_pred_rfc).ravel() #from sklearn docs\n",
    "print y_pred_rfc.shape\n",
    "print y_test.shape\n",
    "print \"\\n\\nWITH CLASS BALANCE CORRECTION\"\n",
    "print confusion_matrix(y_test, y_pred_rfc)\n",
    "print\n",
    "print \"False Positive Rate:\", fp/float(fp+tn)\n",
    "print \"False Negative Rate:\", fn/float(fn+tp)\n",
    "print \"True Positive Rate:\", tp/float(tp+fp)\n",
    "print \"True Negative Rate:\", tn/float(tn+fn)\n",
    "print\n",
    "print \"Accuracy on 2 Class Helpfulness:\", np.mean(y_pred_rfc[y_test == 2] == y_test[y_test == 2])\n",
    "print \"Accuracy on 1 Class Helpfulness:\", np.mean(y_pred_rfc[y_test == 1] == y_test[y_test == 1])"
   ]
  },
  {
   "cell_type": "code",
   "execution_count": 108,
   "metadata": {
    "collapsed": false
   },
   "outputs": [
    {
     "name": "stdout",
     "output_type": "stream",
     "text": [
      "[71 24 21 ..., 36 17 15]\n",
      "[ 75.  31.  23. ...,  46.  24.  32.]\n",
      "[ 2.  2.  2. ...,  2.  2.  1.]\n",
      "707\n",
      "3186\n"
     ]
    }
   ],
   "source": [
    "new_trainer = rand_1400.sample(frac=.5)\n",
    "new_tester = rand_1400.drop(new_trainer.index.tolist())\n",
    "\n",
    "tr_numerator = new_trainer['HelpfulnessNumerator'].values\n",
    "tr_denominator = (new_trainer['HelpfulnessDenominator'].values).astype(float)\n",
    "tr_y = tr_numerator / tr_denominator\n",
    "\n",
    "tr_y[tr_y > 1./2] = 2\n",
    "tr_y[tr_y <= 1./2] = 1\n",
    "te_numerator = new_tester['HelpfulnessNumerator'].values\n",
    "te_denominator = (new_tester['HelpfulnessDenominator'].values).astype(float)\n",
    "te_y = te_numerator / te_denominator\n",
    "te_y = np.nan_to_num(te_y)\n",
    "te_y[te_y > 1./2] = 2\n",
    "te_y[te_y <= 1./2] = 1\n"
   ]
  },
  {
   "cell_type": "code",
   "execution_count": 103,
   "metadata": {
    "collapsed": false
   },
   "outputs": [
    {
     "name": "stdout",
     "output_type": "stream",
     "text": [
      "0.823272540457\n"
     ]
    }
   ],
   "source": [
    "text_clf = Pipeline([('vect', CountVectorizer(stop_words='english', min_df=1, binary=True)), ('tfidf', TfidfTransformer()), \n",
    "                     ('clf', MultinomialNB(alpha=0.01)),])\n",
    "text_clf = text_clf.fit(new_trainer['Text'].values, tr_y)\n",
    "predicted = text_clf.predict(new_tester['Text'].values)\n",
    "print np.mean(predicted==te_y)"
   ]
  },
  {
   "cell_type": "code",
   "execution_count": 100,
   "metadata": {
    "collapsed": false
   },
   "outputs": [
    {
     "name": "stdout",
     "output_type": "stream",
     "text": [
      "(3893,)\n",
      "(3893,)\n",
      "\n",
      "\n",
      "WITH CLASS BALANCE CORRECTION\n",
      "[[  36  685]\n",
      " [  35 3137]]\n",
      "\n",
      "False Positive Rate: 0.950069348128\n",
      "False Negative Rate: 0.0110340479193\n",
      "True Positive Rate: 0.820774463632\n",
      "True Negative Rate: 0.507042253521\n",
      "\n",
      "Accuracy on 2 Class Helpfulness: 0.988965952081\n",
      "Accuracy on 1 Class Helpfulness: 0.0499306518724\n"
     ]
    }
   ],
   "source": [
    "tn, fp, fn, tp = confusion_matrix(te_y, predicted).ravel() #from sklearn docs\n",
    "print predicted.shape\n",
    "print te_y.shape\n",
    "print \"\\n\\nWITH CLASS BALANCE CORRECTION\"\n",
    "print confusion_matrix(te_y, predicted)\n",
    "print\n",
    "print \"False Positive Rate:\", fp/float(fp+tn)\n",
    "print \"False Negative Rate:\", fn/float(fn+tp)\n",
    "print \"True Positive Rate:\", tp/float(tp+fp)\n",
    "print \"True Negative Rate:\", tn/float(tn+fn)\n",
    "print\n",
    "print \"Accuracy on 2 Class Helpfulness:\", np.mean(predicted[te_y == 2] == te_y[te_y == 2])\n",
    "print \"Accuracy on 1 Class Helpfulness:\", np.mean(predicted[te_y == 1] == te_y[te_y == 1])"
   ]
  },
  {
   "cell_type": "code",
   "execution_count": null,
   "metadata": {
    "collapsed": true
   },
   "outputs": [],
   "source": []
  }
 ],
 "metadata": {
  "anaconda-cloud": {},
  "kernelspec": {
   "display_name": "Python [Root]",
   "language": "python",
   "name": "Python [Root]"
  },
  "language_info": {
   "codemirror_mode": {
    "name": "ipython",
    "version": 2
   },
   "file_extension": ".py",
   "mimetype": "text/x-python",
   "name": "python",
   "nbconvert_exporter": "python",
   "pygments_lexer": "ipython2",
   "version": "2.7.12"
  }
 },
 "nbformat": 4,
 "nbformat_minor": 0
}
