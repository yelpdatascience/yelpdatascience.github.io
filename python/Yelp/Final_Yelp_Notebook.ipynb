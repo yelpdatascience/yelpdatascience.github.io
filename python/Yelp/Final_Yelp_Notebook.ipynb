{
 "cells": [
  {
   "cell_type": "code",
   "execution_count": 1,
   "metadata": {
    "collapsed": false
   },
   "outputs": [],
   "source": [
    "import numpy as np\n",
    "import pandas as pd\n",
    "import json\n",
    "import re\n",
    "import matplotlib\n",
    "import matplotlib.pyplot as plt\n",
    "from mpl_toolkits.mplot3d import Axes3D\n",
    "import matplotlib.cm as cmx\n",
    "import matplotlib.colors as colors\n",
    "import pandas as pd\n",
    "from sklearn.linear_model import LogisticRegression as LogReg\n",
    "from sklearn.feature_extraction.text import CountVectorizer, TfidfVectorizer\n",
    "from sklearn.feature_extraction.text import TfidfTransformer as Tfidf\n",
    "from sklearn.neighbors import KNeighborsClassifier as KNN\n",
    "from sklearn.tree import DecisionTreeClassifier as dt\n",
    "from sklearn.decomposition import PCA\n",
    "from sklearn.cross_validation import KFold, cross_val_score\n",
    "from sklearn.naive_bayes import GaussianNB\n",
    "from sklearn.metrics import confusion_matrix\n",
    "from sklearn.ensemble import AdaBoostClassifier\n",
    "from sklearn.ensemble import RandomForestClassifier\n",
    "from sklearn.cross_validation import train_test_split as sk_split\n",
    "from sklearn.decomposition import TruncatedSVD as SVD\n",
    "from sklearn import preprocessing\n",
    "from sklearn import svm\n",
    "from sklearn.svm import LinearSVC\n",
    "\n",
    "import nltk\n",
    "from nltk.stem.porter import PorterStemmer\n",
    "from nltk.stem.lancaster import LancasterStemmer\n",
    "\n",
    "%matplotlib inline"
   ]
  },
  {
   "cell_type": "markdown",
   "metadata": {},
   "source": [
    "First, we'll read the raw reviews from our Yelp JSON dataset, flatten the \"votes\" subobject into \"cool\" \"funny\" and \"useful\" attributes, then cast it to a pandas Dataframe."
   ]
  },
  {
   "cell_type": "code",
   "execution_count": 3,
   "metadata": {
    "collapsed": false
   },
   "outputs": [],
   "source": [
    "data = []\n",
    "with open('reviews.json') as f:\n",
    "    for line in f:\n",
    "        data.append(json.loads(line))\n",
    "\n",
    "reviews = []\n",
    "for rev in data:\n",
    "    rev['cool'] = rev['votes']['cool']\n",
    "    rev['funny'] = rev['votes']['funny']\n",
    "    rev['useful'] = rev['votes']['useful']\n",
    "    del rev['votes']\n",
    "    reviews.append(rev)\n",
    "    \n",
    "reviews = pd.DataFrame(reviews)"
   ]
  },
  {
   "cell_type": "markdown",
   "metadata": {},
   "source": [
    "Our next step is to clean the reviews by removing duplicates. After doing so, we'll extract all reviews made during 2015 to comprise our model's sample."
   ]
  },
  {
   "cell_type": "code",
   "execution_count": null,
   "metadata": {
    "collapsed": false
   },
   "outputs": [],
   "source": [
    "reviews.duplicated(subset=['business_id', 'text', 'date', 'user_id'])\n",
    "before = reviews.shape[0]\n",
    "reviews = reviews.drop(reviews[reviews.duplicated(subset=['business_id', 'text', 'date', 'user_id'])].index)\n",
    "after = reviews.shape[0]\n",
    "\n",
    "print before - after, \"duplicates dropped\"\n",
    "\n",
    "reviews_2015 = reviews[(reviews['date'] >= '2015-01-01') & (reviews['date'] < '2016-01-01')]\n",
    "del reviews_2015['review_id']\n",
    "del reviews_2015['type']\n",
    "\n",
    "print reviews_2015.shape\n",
    "reviews_2015.to_json(\"json_2015.json\", orient='records')"
   ]
  },
  {
   "cell_type": "markdown",
   "metadata": {},
   "source": [
    "Let's briefly inspect the data to ensure that everything looks right. Note that the CSV read/write operation is in place because the notebook was originally split into a cleaning notebook and a modeling notebook."
   ]
  },
  {
   "cell_type": "code",
   "execution_count": 6,
   "metadata": {
    "collapsed": false
   },
   "outputs": [
    {
     "data": {
      "text/html": [
       "<div>\n",
       "<table border=\"1\" class=\"dataframe\">\n",
       "  <thead>\n",
       "    <tr style=\"text-align: right;\">\n",
       "      <th></th>\n",
       "      <th>business_id</th>\n",
       "      <th>cool</th>\n",
       "      <th>date</th>\n",
       "      <th>funny</th>\n",
       "      <th>stars</th>\n",
       "      <th>text</th>\n",
       "      <th>useful</th>\n",
       "      <th>user_id</th>\n",
       "    </tr>\n",
       "  </thead>\n",
       "  <tbody>\n",
       "    <tr>\n",
       "      <th>0</th>\n",
       "      <td>vT12uXtdBQ10_lUcl-M40w</td>\n",
       "      <td>0</td>\n",
       "      <td>2015-01-01</td>\n",
       "      <td>0</td>\n",
       "      <td>1</td>\n",
       "      <td>terrible experience....I am a local first of a...</td>\n",
       "      <td>0</td>\n",
       "      <td>C_xtIn19eKivN335dzjadg</td>\n",
       "    </tr>\n",
       "    <tr>\n",
       "      <th>1</th>\n",
       "      <td>aWMxTWSEqBvH2KhdGPLibQ</td>\n",
       "      <td>0</td>\n",
       "      <td>2015-01-01</td>\n",
       "      <td>0</td>\n",
       "      <td>3</td>\n",
       "      <td>Bad service at this location.\\n\\nGood iced cof...</td>\n",
       "      <td>0</td>\n",
       "      <td>T7J9ae0wTskrI_Bgwp-4cA</td>\n",
       "    </tr>\n",
       "    <tr>\n",
       "      <th>2</th>\n",
       "      <td>Z98h1BhssZeFfZvcVTYOpw</td>\n",
       "      <td>0</td>\n",
       "      <td>2015-01-01</td>\n",
       "      <td>0</td>\n",
       "      <td>2</td>\n",
       "      <td>We have been to Maya's many times since it fir...</td>\n",
       "      <td>1</td>\n",
       "      <td>O7WaUuYwX45Ia6Mvf01UCw</td>\n",
       "    </tr>\n",
       "    <tr>\n",
       "      <th>3</th>\n",
       "      <td>3rwM9fPYPk9qDkEBOhyHbg</td>\n",
       "      <td>1</td>\n",
       "      <td>2015-01-01</td>\n",
       "      <td>0</td>\n",
       "      <td>5</td>\n",
       "      <td>booked the hotel for new years, over the phone...</td>\n",
       "      <td>1</td>\n",
       "      <td>kq-4vbC1cHQbRKyDmwERSA</td>\n",
       "    </tr>\n",
       "    <tr>\n",
       "      <th>4</th>\n",
       "      <td>JpYn_HdxQNZQSlWWv4P6Iw</td>\n",
       "      <td>0</td>\n",
       "      <td>2015-01-01</td>\n",
       "      <td>0</td>\n",
       "      <td>3</td>\n",
       "      <td>Good, not great. Not a ton of tea options but ...</td>\n",
       "      <td>1</td>\n",
       "      <td>XweddetOpWNuJQ5mLb_5JQ</td>\n",
       "    </tr>\n",
       "  </tbody>\n",
       "</table>\n",
       "</div>"
      ],
      "text/plain": [
       "              business_id  cool       date  funny  stars  \\\n",
       "0  vT12uXtdBQ10_lUcl-M40w     0 2015-01-01      0      1   \n",
       "1  aWMxTWSEqBvH2KhdGPLibQ     0 2015-01-01      0      3   \n",
       "2  Z98h1BhssZeFfZvcVTYOpw     0 2015-01-01      0      2   \n",
       "3  3rwM9fPYPk9qDkEBOhyHbg     1 2015-01-01      0      5   \n",
       "4  JpYn_HdxQNZQSlWWv4P6Iw     0 2015-01-01      0      3   \n",
       "\n",
       "                                                text  useful  \\\n",
       "0  terrible experience....I am a local first of a...       0   \n",
       "1  Bad service at this location.\\n\\nGood iced cof...       0   \n",
       "2  We have been to Maya's many times since it fir...       1   \n",
       "3  booked the hotel for new years, over the phone...       1   \n",
       "4  Good, not great. Not a ton of tea options but ...       1   \n",
       "\n",
       "                  user_id  \n",
       "0  C_xtIn19eKivN335dzjadg  \n",
       "1  T7J9ae0wTskrI_Bgwp-4cA  \n",
       "2  O7WaUuYwX45Ia6Mvf01UCw  \n",
       "3  kq-4vbC1cHQbRKyDmwERSA  \n",
       "4  XweddetOpWNuJQ5mLb_5JQ  "
      ]
     },
     "execution_count": 6,
     "metadata": {},
     "output_type": "execute_result"
    }
   ],
   "source": [
    "data = pd.read_json('json_2015.json')\n",
    "data.head()"
   ]
  },
  {
   "cell_type": "markdown",
   "metadata": {},
   "source": [
    "Looks good. Let's sample from this subset of 2015 reviews so that our model is a bit easier to work with."
   ]
  },
  {
   "cell_type": "code",
   "execution_count": 7,
   "metadata": {
    "collapsed": true
   },
   "outputs": [],
   "source": [
    "samp = data.sample(50000) #draw samples"
   ]
  },
  {
   "cell_type": "markdown",
   "metadata": {},
   "source": [
    "We'll now establish our baseline model. For this we'll use a very basic vectorizer with no weighting or other such modifications."
   ]
  },
  {
   "cell_type": "code",
   "execution_count": 8,
   "metadata": {
    "collapsed": true
   },
   "outputs": [],
   "source": [
    "vectorizer = CountVectorizer(stop_words='english', binary=False, max_features=10000) #using non-binary Count Vec.\n",
    "reviews = samp.text.values\n",
    "\n",
    "#tokenize words\n",
    "x = vectorizer.fit_transform(reviews)"
   ]
  },
  {
   "cell_type": "markdown",
   "metadata": {},
   "source": [
    "Converting response variable for \"useful\" to binary form. In other words, reviews with at least one useful vote are labeled as \"1\" while those without are labeled as \"0\"."
   ]
  },
  {
   "cell_type": "code",
   "execution_count": 9,
   "metadata": {
    "collapsed": true
   },
   "outputs": [],
   "source": [
    "binary_y = [] #class observations according to whether they have at least one \"helpful\" vote\n",
    "\n",
    "for score in samp.useful.values:\n",
    "    i = 1 if score > 0 else 0\n",
    "    binary_y.append(i)"
   ]
  },
  {
   "cell_type": "markdown",
   "metadata": {},
   "source": [
    "Let's find the optimal logistic regression regularization parameter for this dataset. It appears to be about 0.01, further tinkering yielded no additional gains."
   ]
  },
  {
   "cell_type": "code",
   "execution_count": 10,
   "metadata": {
    "collapsed": false
   },
   "outputs": [
    {
     "name": "stdout",
     "output_type": "stream",
     "text": [
      "C= 0.0001 : 0.646140014067\n",
      "C= 0.001 : 0.662779856527\n",
      "C= 0.01 : 0.66393987653\n",
      "C= 0.1 : 0.653520002091\n",
      "C= 1 : 0.627160042005\n",
      "C= 10 : 0.606280070737\n",
      "C= 100 : 0.600379882726\n"
     ]
    },
    {
     "data": {
      "image/png": "[encoded data removed]",
      "text/plain": [
       "<matplotlib.figure.Figure at 0x3fb812550>"
      ]
     },
     "metadata": {},
     "output_type": "display_data"
    }
   ],
   "source": [
    "cvals = [0.0001, 0.001, 0.01, 0.1, 1, 10, 100]\n",
    "scores = []\n",
    "for c in cvals: #try cross validating the data with different regularization parameters\n",
    "    log_model = LogReg(C=c, penalty='l2') #initiate unregularized logistic regression model\n",
    "    score = cross_val_score(log_model, x, binary_y, n_jobs=-1).mean() #cross validate\n",
    "    scores.append(score)\n",
    "    print \"C=\",c ,\":\", score\n",
    "    \n",
    "    \n",
    "plt.plot(cvals, scores)\n",
    "plt.xscale('log')\n",
    "plt.title(\"Accuracy by Regularization Parameter value\")\n",
    "plt.xlabel(\"Parameter value\")\n",
    "plt.ylabel(\"Accuracy\")\n",
    "plt.grid()\n",
    "plt.show()"
   ]
  },
  {
   "cell_type": "code",
   "execution_count": 11,
   "metadata": {
    "collapsed": false
   },
   "outputs": [
    {
     "name": "stdout",
     "output_type": "stream",
     "text": [
      "Cross Validated Accuracy on Sample: 0.66393987653\n"
     ]
    }
   ],
   "source": [
    "log_model = LogReg(C=0.01, penalty='l2') #initialize logistic regression model\n",
    "print \"Cross Validated Accuracy on Sample:\", cross_val_score(log_model, x, binary_y, n_jobs=-1).mean()"
   ]
  },
  {
   "cell_type": "markdown",
   "metadata": {},
   "source": [
    "Hmm, not a bad number. However, we should look at how this model fails"
   ]
  },
  {
   "cell_type": "code",
   "execution_count": 12,
   "metadata": {
    "collapsed": false
   },
   "outputs": [
    {
     "name": "stdout",
     "output_type": "stream",
     "text": [
      "NO CLASS BALANCE CORRECTION\n",
      "[[28903  2247]\n",
      " [12761  6089]]\n",
      "\n",
      "False Positive Rate: 0.0721348314607\n",
      "False Negative Rate: 0.676976127321\n",
      "True Positive Rate: 0.730446257198\n",
      "True Negative Rate: 0.693716397849\n",
      "\n",
      "Accuracy on Positive Reviews: 0.323023872679\n",
      "Accuracy on Negative Reviews: 0.927865168539\n",
      "Overall F1 Score: 0.377639697816\n",
      "\n",
      "\n",
      "WITH CLASS BALANCE CORRECTION\n",
      "[[24119  7031]\n",
      " [ 8301 10549]]\n",
      "\n",
      "False Positive Rate: 0.225714285714\n",
      "False Negative Rate: 0.440371352785\n",
      "True Positive Rate: 0.600056882821\n",
      "True Negative Rate: 0.743954349167\n",
      "\n",
      "Accuracy on Positive Reviews: 0.559628647215\n",
      "Accuracy on Negative Reviews: 0.774285714286\n",
      "Overall F1 Score: 0.512523895903\n"
     ]
    }
   ],
   "source": [
    "log_model = LogReg(C=0.01, penalty='l2') #initialize logistic regression model\n",
    "log_model.fit(x, binary_y)\n",
    "y_pred = log_model.predict(x)\n",
    "binary_y = np.array(binary_y)\n",
    "\n",
    "tn, fp, fn, tp = confusion_matrix(binary_y, y_pred).ravel() #from sklearn docs\n",
    "\n",
    "print \"NO CLASS BALANCE CORRECTION\"\n",
    "print confusion_matrix(binary_y, y_pred)\n",
    "print\n",
    "print \"False Positive Rate:\", fp/float(fp+tn)\n",
    "print \"False Negative Rate:\", fn/float(fn+tp)\n",
    "print \"True Positive Rate:\", tp/float(tp+fp)\n",
    "print \"True Negative Rate:\", tn/float(tn+fn)\n",
    "print\n",
    "print \"Accuracy on Positive Reviews:\", np.mean(y_pred[binary_y == 1] == binary_y[binary_y == 1])\n",
    "print \"Accuracy on Negative Reviews:\", np.mean(y_pred[binary_y == 0] == binary_y[binary_y == 0])\n",
    "\n",
    "print \"Overall F1 Score:\", cross_val_score(log_model, x, binary_y, n_jobs=-1, scoring='f1').mean()\n",
    "\n",
    "#BALANCED CLASSES\n",
    "log_model = LogReg(C=0.01, penalty='l2', class_weight='balanced') #initialize logistic regression model\n",
    "log_model.fit(x, binary_y)\n",
    "y_pred = log_model.predict(x)\n",
    "binary_y = np.array(binary_y)\n",
    "\n",
    "tn, fp, fn, tp = confusion_matrix(binary_y, y_pred).ravel() #from sklearn docs\n",
    "\n",
    "print \"\\n\\nWITH CLASS BALANCE CORRECTION\"\n",
    "print confusion_matrix(binary_y, y_pred)\n",
    "print\n",
    "print \"False Positive Rate:\", fp/float(fp+tn)\n",
    "print \"False Negative Rate:\", fn/float(fn+tp)\n",
    "print \"True Positive Rate:\", tp/float(tp+fp)\n",
    "print \"True Negative Rate:\", tn/float(tn+fn)\n",
    "print\n",
    "print \"Accuracy on Positive Reviews:\", np.mean(y_pred[binary_y == 1] == binary_y[binary_y == 1])\n",
    "print \"Accuracy on Negative Reviews:\", np.mean(y_pred[binary_y == 0] == binary_y[binary_y == 0])\n",
    "\n",
    "print \"Overall F1 Score:\", cross_val_score(log_model, x, binary_y, n_jobs=-1, scoring='f1').mean()"
   ]
  },
  {
   "cell_type": "markdown",
   "metadata": {},
   "source": [
    "It appears that the highly imbalanced classes were the cause for our high initial cross validated accuracy. Weighting improves our accuracy on the positive reviews, but the model is still relatively weak. We'll look at some more advanced techniques for improving overall accuracy and positive accuracy rate after running the baseline algorithm on the full dataset."
   ]
  },
  {
   "cell_type": "code",
   "execution_count": 13,
   "metadata": {
    "collapsed": true
   },
   "outputs": [],
   "source": [
    "#same procedure on full dataset\n",
    "\n",
    "vectorizer = CountVectorizer(stop_words='english', binary=False, max_features=10000) #using non-binary Count Vec.\n",
    "reviews = data.text.values\n",
    "x = vectorizer.fit_transform(reviews)\n",
    "\n",
    "binary_y = []\n",
    "\n",
    "for score in data.useful.values:\n",
    "    i = 1 if score > 0 else 0\n",
    "    binary_y.append(i)"
   ]
  },
  {
   "cell_type": "code",
   "execution_count": 14,
   "metadata": {
    "collapsed": false
   },
   "outputs": [
    {
     "name": "stdout",
     "output_type": "stream",
     "text": [
      "Accuracy: 0.655814588905\n",
      "F1 Score: 0.525511083732\n",
      "\n",
      "\n",
      "WITH CLASS BALANCE CORRECTION\n",
      "[[314277 101194]\n",
      " [119596 131748]]\n",
      "\n",
      "False Positive Rate: 0.243564532783\n",
      "False Negative Rate: 0.475825959641\n",
      "True Positive Rate: 0.56558284895\n",
      "True Negative Rate: 0.724352517903\n",
      "\n",
      "Accuracy on Positive Reviews: 0.524174040359\n",
      "Accuracy on Negative Reviews: 0.756435467217\n",
      "Overall F1 Score: 0.525511083732\n"
     ]
    }
   ],
   "source": [
    "log_model = LogReg(C=0.01, penalty='l2', class_weight='balanced') #initialize logistic regression model\n",
    "print \"Accuracy:\", cross_val_score(log_model, x, binary_y, n_jobs=-1).mean()\n",
    "print \"F1 Score:\",cross_val_score(log_model, x, binary_y, scoring='f1', n_jobs=-1).mean()\n",
    "\n",
    "log_model.fit(x, binary_y)\n",
    "y_pred = log_model.predict(x)\n",
    "binary_y = np.array(binary_y)\n",
    "\n",
    "tn, fp, fn, tp = confusion_matrix(binary_y, y_pred).ravel() #from sklearn docs\n",
    "\n",
    "print \"\\n\\nWITH CLASS BALANCE CORRECTION\"\n",
    "print confusion_matrix(binary_y, y_pred)\n",
    "print\n",
    "print \"False Positive Rate:\", fp/float(fp+tn)\n",
    "print \"False Negative Rate:\", fn/float(fn+tp)\n",
    "print \"True Positive Rate:\", tp/float(tp+fp)\n",
    "print \"True Negative Rate:\", tn/float(tn+fn)\n",
    "print\n",
    "print \"Accuracy on Positive Reviews:\", np.mean(y_pred[binary_y == 1] == binary_y[binary_y == 1])\n",
    "print \"Accuracy on Negative Reviews:\", np.mean(y_pred[binary_y == 0] == binary_y[binary_y == 0])\n",
    "\n",
    "print \"Overall F1 Score:\", cross_val_score(log_model, x, binary_y, n_jobs=-1, scoring='f1').mean()"
   ]
  },
  {
   "cell_type": "markdown",
   "metadata": {},
   "source": [
    "Overall, while our baseline model establishes some degree of separation between helpful and unhelpful reviews it seems to have a relatively low accuracy and F1 score even when tuned. This is likely due to a confounding element of our question: the reality that reviews can lack \"useful\" votes for multiple reasons. \n",
    "\n",
    "On one hand, a review can have no useful votes when it actually contains useless content. This is the sort of review we'd like to classify as 0 or useless. On the other hand, a great review can recieve no useful votes simply because it goes unnoticed by other Yelp users. This likely impedes our model's capacity to make solid predictions regarding a review's helpfulness. A \"denominator\" value such as the sort seen in the Amazon dataset we looked at previously would help alleviate this issue.\n",
    "\n",
    "Given this difficulty, it will make sense for us to fit some additional models to the data to see which works best. Playing with class weights would also make sense, as the model currently seems to be making a fair number of false negative errors (which are severely impacting its performance)."
   ]
  },
  {
   "cell_type": "code",
   "execution_count": 2,
   "metadata": {
    "collapsed": true
   },
   "outputs": [],
   "source": [
    "data = pd.read_json('json_2015.json')\n",
    "data = data.sample(frac=1)"
   ]
  },
  {
   "cell_type": "code",
   "execution_count": 3,
   "metadata": {
    "collapsed": false
   },
   "outputs": [
    {
     "data": {
      "text/html": [
       "<div>\n",
       "<table border=\"1\" class=\"dataframe\">\n",
       "  <thead>\n",
       "    <tr style=\"text-align: right;\">\n",
       "      <th></th>\n",
       "      <th>business_id</th>\n",
       "      <th>cool</th>\n",
       "      <th>date</th>\n",
       "      <th>funny</th>\n",
       "      <th>stars</th>\n",
       "      <th>text</th>\n",
       "      <th>useful</th>\n",
       "      <th>user_id</th>\n",
       "    </tr>\n",
       "  </thead>\n",
       "  <tbody>\n",
       "    <tr>\n",
       "      <th>535690</th>\n",
       "      <td>mTLxc3DqWqFk0D2mijfuBw</td>\n",
       "      <td>0</td>\n",
       "      <td>2015-10-18</td>\n",
       "      <td>0</td>\n",
       "      <td>3</td>\n",
       "      <td>Went here with boyfriend last night at his rec...</td>\n",
       "      <td>1</td>\n",
       "      <td>sbmv5VijXRk6Hc1tZXWTfw</td>\n",
       "    </tr>\n",
       "    <tr>\n",
       "      <th>17945</th>\n",
       "      <td>_PuhheIPgmDCBJe1nhpKTg</td>\n",
       "      <td>0</td>\n",
       "      <td>2015-01-11</td>\n",
       "      <td>1</td>\n",
       "      <td>5</td>\n",
       "      <td>Looking for a good Italian place in Vegas and ...</td>\n",
       "      <td>0</td>\n",
       "      <td>E6MDZx4Eh3JZzyL6J8DPKQ</td>\n",
       "    </tr>\n",
       "    <tr>\n",
       "      <th>468801</th>\n",
       "      <td>dz1bfyHR5lOdse4b4UiQiQ</td>\n",
       "      <td>0</td>\n",
       "      <td>2015-09-12</td>\n",
       "      <td>0</td>\n",
       "      <td>1</td>\n",
       "      <td>Ordered a sandwich which they forgot to put sa...</td>\n",
       "      <td>2</td>\n",
       "      <td>4ltmmYvQTtS3Um3UWvjBRg</td>\n",
       "    </tr>\n",
       "    <tr>\n",
       "      <th>603586</th>\n",
       "      <td>MmNuDDHUHDgLj4BviOvlqg</td>\n",
       "      <td>0</td>\n",
       "      <td>2015-11-24</td>\n",
       "      <td>0</td>\n",
       "      <td>1</td>\n",
       "      <td>After years of wanting to replace my worn down...</td>\n",
       "      <td>0</td>\n",
       "      <td>yWaoi5rHDb5b8Lzzh5tJqw</td>\n",
       "    </tr>\n",
       "    <tr>\n",
       "      <th>184502</th>\n",
       "      <td>dVk_hKqA4mi0XOJq4pfJiQ</td>\n",
       "      <td>0</td>\n",
       "      <td>2015-04-18</td>\n",
       "      <td>1</td>\n",
       "      <td>1</td>\n",
       "      <td>Not impressed. Yeah having the free vacuums is...</td>\n",
       "      <td>5</td>\n",
       "      <td>NSNyXuGQXpvkpvXqPR7Yjw</td>\n",
       "    </tr>\n",
       "  </tbody>\n",
       "</table>\n",
       "</div>"
      ],
      "text/plain": [
       "                   business_id  cool       date  funny  stars  \\\n",
       "535690  mTLxc3DqWqFk0D2mijfuBw     0 2015-10-18      0      3   \n",
       "17945   _PuhheIPgmDCBJe1nhpKTg     0 2015-01-11      1      5   \n",
       "468801  dz1bfyHR5lOdse4b4UiQiQ     0 2015-09-12      0      1   \n",
       "603586  MmNuDDHUHDgLj4BviOvlqg     0 2015-11-24      0      1   \n",
       "184502  dVk_hKqA4mi0XOJq4pfJiQ     0 2015-04-18      1      1   \n",
       "\n",
       "                                                     text  useful  \\\n",
       "535690  Went here with boyfriend last night at his rec...       1   \n",
       "17945   Looking for a good Italian place in Vegas and ...       0   \n",
       "468801  Ordered a sandwich which they forgot to put sa...       2   \n",
       "603586  After years of wanting to replace my worn down...       0   \n",
       "184502  Not impressed. Yeah having the free vacuums is...       5   \n",
       "\n",
       "                       user_id  \n",
       "535690  sbmv5VijXRk6Hc1tZXWTfw  \n",
       "17945   E6MDZx4Eh3JZzyL6J8DPKQ  \n",
       "468801  4ltmmYvQTtS3Um3UWvjBRg  \n",
       "603586  yWaoi5rHDb5b8Lzzh5tJqw  \n",
       "184502  NSNyXuGQXpvkpvXqPR7Yjw  "
      ]
     },
     "execution_count": 3,
     "metadata": {},
     "output_type": "execute_result"
    }
   ],
   "source": [
    "data.head()"
   ]
  },
  {
   "cell_type": "markdown",
   "metadata": {},
   "source": [
    "The functions below are scorers which calculate our model's accuracy on the different classes"
   ]
  },
  {
   "cell_type": "code",
   "execution_count": 4,
   "metadata": {
    "collapsed": true
   },
   "outputs": [],
   "source": [
    "#standardize predictor variables\n",
    "\n",
    "def scorer_pos(estimator, X, y): #custom scoring functions to get positive and negative accuracy\n",
    "    estimator.fit(X, y)\n",
    "    y_pred = estimator.predict(X)\n",
    "    return np.float(np.mean(y_pred[y == 1] == y[y == 1]))\n",
    "\n",
    "def scorer_neg(estimator, X, y):\n",
    "    estimator.fit(X, y)\n",
    "    y_pred = estimator.predict(X)\n",
    "    return np.float(np.mean(y_pred[y == 0] == y[y == 0]))"
   ]
  },
  {
   "cell_type": "markdown",
   "metadata": {},
   "source": [
    "This function tests a model and returns a wide variety of metrics on its performance."
   ]
  },
  {
   "cell_type": "code",
   "execution_count": 5,
   "metadata": {
    "collapsed": true
   },
   "outputs": [],
   "source": [
    "def test_model(x, binary_y, model, title, coefs=False):\n",
    "    model.fit(x, binary_y)\n",
    "    y_pred = model.predict(x)\n",
    "    binary_y = np.array(binary_y)\n",
    "\n",
    "    tn, fp, fn, tp = confusion_matrix(binary_y, y_pred).ravel() #from sklearn docs\n",
    "\n",
    "    print title\n",
    "    print confusion_matrix(binary_y, y_pred)\n",
    "\n",
    "    print \"False Positive Rate:\", fp/float(fp+tn)\n",
    "    print \"False Negative Rate:\", fn/float(fn+tp)\n",
    "    print \"True Positive Rate:\", tp/float(tp+fp)\n",
    "    print \"True Negative Rate:\", tn/float(tn+fn)\n",
    "    \n",
    "    print \"Positive Accuracy:\", cross_val_score(model, x, binary_y, n_jobs=-1, scoring=scorer_pos).mean()\n",
    "    print \"Negative Accuracy:\", cross_val_score(model, x, binary_y, n_jobs=-1, scoring=scorer_neg).mean()\n",
    "    print \"Cross Validated Accuracy on Sample:\", cross_val_score(model, x, binary_y, n_jobs=-1).mean()\n",
    "    print \"Cross Validated AUC on Sample:\", cross_val_score(model, x, binary_y, n_jobs=-1, scoring='roc_auc').mean()\n",
    "    print \"Train Set Accuracy on Sample:\", np.mean(y_pred == binary_y)\n",
    "    print\n",
    "    if coefs == True:\n",
    "        mydict = zip(model.coef_[0], vectorizer.get_feature_names())\n",
    "        words = sorted([(i[0], i[1].encode('utf-8')) for i in mydict], reverse=True, key=lambda x: x[0])\n",
    "        return words"
   ]
  },
  {
   "cell_type": "markdown",
   "metadata": {},
   "source": [
    "Below is a stemmer drawn from NLTK. We found that it did not noticably increase our model's performace, so we did not end up using it."
   ]
  },
  {
   "cell_type": "code",
   "execution_count": 24,
   "metadata": {
    "collapsed": true
   },
   "outputs": [],
   "source": [
    "stemmer = PorterStemmer()\n",
    "def stem_tokens(tokens, stemmer):\n",
    "    stemmed = []\n",
    "    for item in tokens:\n",
    "        stemmed.append(stemmer.stem(item))\n",
    "    return stemmed\n",
    "\n",
    "def tokenize(text):\n",
    "    text = re.sub(\"[^a-zA-Z]\", \" \", text)\n",
    "    tokens = nltk.word_tokenize(text)\n",
    "    stems = stem_tokens(tokens, stemmer)\n",
    "    return stems"
   ]
  },
  {
   "cell_type": "markdown",
   "metadata": {},
   "source": [
    "Here we sample 100,000 reviews from the dataset and run them through a vectorizer using Tf-idf weighting and a non-binary counting mechanism. Document frequency maxima and minima were found to have little effect, and our tokenization process actually worked against us."
   ]
  },
  {
   "cell_type": "code",
   "execution_count": 6,
   "metadata": {
    "collapsed": true
   },
   "outputs": [],
   "source": [
    "samp = data.sample(100000) #draw samples\n",
    "\n",
    "#lengths = [len(i[1]['text']) for i in samp.iterrows()]\n",
    "\n",
    "samp.shape\n",
    "frac_useful = 1 - data['useful'].value_counts()[0] / float(data.shape[0])\n",
    "frac_funny = 1 - data['funny'].value_counts()[0] / float(data.shape[0])\n",
    "frac_cool = 1 - data['cool'].value_counts()[0] / float(data.shape[0])"
   ]
  },
  {
   "cell_type": "code",
   "execution_count": 13,
   "metadata": {
    "collapsed": true
   },
   "outputs": [],
   "source": [
    "vectorizer = TfidfVectorizer(stop_words='english', \n",
    "                             binary=False, \n",
    "                             max_features=10000,\n",
    "                             analyzer='word',\n",
    "                             #tokenizer=tokenize,\n",
    "                             sublinear_tf=False\n",
    "                            ) #using non-binary Count Vec.\n",
    "reviews = samp.text.values\n",
    "\n",
    "#tokenize words\n",
    "x = vectorizer.fit_transform(reviews)\n",
    "\n",
    "y_useful = [] #class observations according to whether they have at least one \"helpful\" vote\n",
    "y_cool = []\n",
    "y_funny = []\n",
    "\n",
    "\n",
    "for score in samp.useful.values:\n",
    "    i = 1 if score > 0 else 0\n",
    "    y_useful.append(i)\n",
    "\n",
    "for score in samp.cool.values:\n",
    "    i = 1 if score > 0 else 0\n",
    "    y_cool.append(i)\n",
    "\n",
    "for score in samp.funny.values:\n",
    "    i = 1 if score > 0 else 0\n",
    "    y_funny.append(i)"
   ]
  },
  {
   "cell_type": "markdown",
   "metadata": {},
   "source": [
    "Now let's see how well our algorithm does with these new vectorization techniques"
   ]
  },
  {
   "cell_type": "code",
   "execution_count": 14,
   "metadata": {
    "collapsed": false
   },
   "outputs": [
    {
     "name": "stdout",
     "output_type": "stream",
     "text": [
      "Useful\n",
      "[[38773 23462]\n",
      " [14005 23760]]\n",
      "False Positive Rate: 0.376990439463\n",
      "False Negative Rate: 0.370846021448\n",
      "True Positive Rate: 0.503155308966\n",
      "True Negative Rate: 0.734643222555\n",
      "Positive Accuracy: 0.64498863211\n",
      "Negative Accuracy: 0.611504780268\n",
      "Cross Validated Accuracy on Sample: 0.612610008022\n",
      "Cross Validated AUC on Sample: 0.654538277018\n",
      "Train Set Accuracy on Sample: 0.62533\n",
      "\n",
      "Funny\n",
      "[[52847 29821]\n",
      " [ 5835 11497]]\n",
      "False Positive Rate: 0.360732084966\n",
      "False Negative Rate: 0.336660512347\n",
      "True Positive Rate: 0.278256449973\n",
      "True Negative Rate: 0.900565761221\n",
      "Positive Accuracy: 0.678975007399\n",
      "Negative Accuracy: 0.639388880825\n",
      "Cross Validated Accuracy on Sample: 0.632620023926\n",
      "Cross Validated AUC on Sample: 0.681813486942\n",
      "Train Set Accuracy on Sample: 0.64344\n",
      "\n",
      "Cool\n",
      "[[52000 26285]\n",
      " [ 8740 12975]]\n",
      "False Positive Rate: 0.335760362777\n",
      "False Negative Rate: 0.402486760304\n",
      "True Positive Rate: 0.330489047376\n",
      "True Negative Rate: 0.856108001317\n",
      "Positive Accuracy: 0.603914495927\n",
      "Negative Accuracy: 0.671316344127\n",
      "Cross Validated Accuracy on Sample: 0.636830043527\n",
      "Cross Validated AUC on Sample: 0.65375386429\n",
      "Train Set Accuracy on Sample: 0.64975\n",
      "\n"
     ]
    }
   ],
   "source": [
    "u_tune = 0.00\n",
    "f_tune = 0.00\n",
    "c_tune = 0.00\n",
    "\n",
    "weights = {0:1/(1 - frac_useful + u_tune), 1:1/(frac_useful - u_tune)}\n",
    "log_model = LogReg(C=0.01, penalty='l2', class_weight=weights) #initialize logistic regression model\n",
    "\n",
    "rand = RandomForestClassifier(n_estimators=300, criterion='gini', \n",
    "                              max_features= 17, max_depth=5, class_weight='balanced')\n",
    "\n",
    "\n",
    "\n",
    "useful_words = test_model(x, y_useful, \n",
    "                          log_model,\n",
    "                          \"Useful\",\n",
    "                          coefs=True)\n",
    "funny_words = test_model(x, y_funny, \n",
    "                         log_model.set_params(class_weight={0:1/(1 - frac_funny + f_tune), 1:1/(frac_funny - f_tune)}), \n",
    "                         \"Funny\",\n",
    "                          coefs=True)\n",
    "cool_words = test_model(x, y_cool, \n",
    "                        log_model.set_params(class_weight={0:1/(1 - frac_cool + c_tune), 1:1/(frac_cool - c_tune)}),\n",
    "                        #rand,\n",
    "                        \"Cool\",\n",
    "                          coefs=True)"
   ]
  },
  {
   "cell_type": "markdown",
   "metadata": {},
   "source": [
    "The stability of our accuracy numbers has increased, and we see a significant increase in positive class accuracy relative to our baseline model. We found that further biasing the weights in favor of positive classifications caused large drops in negative accuracy, as per our website.\n",
    "\n",
    "Below are printouts of the 10 highest coefficient words for each class."
   ]
  },
  {
   "cell_type": "code",
   "execution_count": 15,
   "metadata": {
    "collapsed": false
   },
   "outputs": [
    {
     "name": "stdout",
     "output_type": "stream",
     "text": [
      "10 Coolest Words:\n",
      "like 0.807612007641\n",
      "located 0.670322339945\n",
      "just 0.626328926314\n",
      "really 0.616388983954\n",
      "pretty 0.592052005026\n",
      "vegas 0.567971734863\n",
      "perfect 0.566693403885\n",
      "ll 0.559683702614\n",
      "super 0.528248961115\n",
      "cream 0.524181983647\n",
      "\n",
      "10 Least Cool Words:\n",
      "atmosphere -0.369284364266\n",
      "told -0.384512134228\n",
      "recommend -0.3966567704\n",
      "waited -0.397704357381\n",
      "horrible -0.399269095416\n",
      "terrible -0.400473119824\n",
      "worst -0.473362959253\n",
      "rude -0.482382202353\n",
      "service -0.592469353197\n",
      "food -0.726009765796\n",
      "\n",
      "10 Funniest Words:\n",
      "like 1.27323255495\n",
      "just 0.869431814704\n",
      "don 0.851679103682\n",
      "want 0.731578810339\n",
      "people 0.656238801864\n",
      "review 0.623923140589\n",
      "said 0.623217516443\n",
      "know 0.573615927835\n",
      "bar 0.564101760505\n",
      "thing 0.555996253301\n",
      "\n",
      "10 Least Funny Words:\n",
      "staff -0.54322547621\n",
      "excellent -0.603172586984\n",
      "delicious -0.617626437128\n",
      "love -0.61820671326\n",
      "amazing -0.666508852385\n",
      "food -0.713787452365\n",
      "best -0.722401827574\n",
      "recommend -0.752577102822\n",
      "friendly -0.81210679357\n",
      "great -1.30580185234\n",
      "\n",
      "10 Most Useful Words:\n",
      "like 0.811041910952\n",
      "just 0.724975681659\n",
      "don 0.666030537768\n",
      "said 0.596250526402\n",
      "review 0.519063167632\n",
      "know 0.504829163478\n",
      "think 0.493770615359\n",
      "ll 0.493168335011\n",
      "bar 0.487582234473\n",
      "want 0.486004886789\n",
      "\n",
      "10 Least Useful Words:\n",
      "friendly -0.414232456561\n",
      "recommend -0.422263324432\n",
      "excellent -0.454653673375\n",
      "amazing -0.476685260294\n",
      "best -0.488726126999\n",
      "awesome -0.521324185133\n",
      "service -0.633301835224\n",
      "food -0.681971276514\n",
      "good -0.784301962744\n",
      "great -1.17473028272\n"
     ]
    }
   ],
   "source": [
    "print \"10 Coolest Words:\"\n",
    "for word in cool_words[:10]:\n",
    "    print word[1], word[0]\n",
    "\n",
    "print \"\\n10 Least Cool Words:\"\n",
    "for word in cool_words[-10:]:\n",
    "    print word[1], word[0]\n",
    "    \n",
    "print \"\\n10 Funniest Words:\"\n",
    "for word in funny_words[:10]:\n",
    "    print word[1], word[0]\n",
    "\n",
    "print \"\\n10 Least Funny Words:\"\n",
    "for word in funny_words[-10:]:\n",
    "    print word[1], word[0]\n",
    "    \n",
    "print \"\\n10 Most Useful Words:\"\n",
    "for word in useful_words[:10]:\n",
    "    print word[1], word[0]\n",
    "\n",
    "print \"\\n10 Least Useful Words:\"\n",
    "for word in useful_words[-10:]:\n",
    "    print word[1], word[0]"
   ]
  },
  {
   "cell_type": "markdown",
   "metadata": {},
   "source": [
    "Finally, we'll run a linear SVC on the data to see how it performs. Performance is very similar to that of the Logistic Regression, though we ultimately opted to go with the latter for reasons explained on the website."
   ]
  },
  {
   "cell_type": "code",
   "execution_count": 29,
   "metadata": {
    "collapsed": false
   },
   "outputs": [
    {
     "name": "stdout",
     "output_type": "stream",
     "text": [
      "Useful\n",
      "[[37961 24225]\n",
      " [14053 23761]]\n",
      "False Positive Rate: 0.389557135046\n",
      "False Negative Rate: 0.371634844238\n",
      "True Positive Rate: 0.495165256533\n",
      "True Negative Rate: 0.729822740032\n",
      "Positive Accuracy: 0.620510984993\n",
      "Negative Accuracy: 0.604862843588\n",
      "Cross Validated Accuracy on Sample: 0.606789924084\n",
      "Cross Validated AUC on Sample: 0.648357021728\n",
      "Train Set Accuracy on Sample: 0.61722\n",
      "\n",
      "Funny\n",
      "[[51809 30777]\n",
      " [ 5808 11606]]\n",
      "False Positive Rate: 0.37266606931\n",
      "False Negative Rate: 0.333524750201\n",
      "True Positive Rate: 0.273836207914\n",
      "True Negative Rate: 0.899196417724\n",
      "Positive Accuracy: 0.647524621411\n",
      "Negative Accuracy: 0.628314709203\n",
      "Cross Validated Accuracy on Sample: 0.626159901499\n",
      "Cross Validated AUC on Sample: 0.679360742285\n",
      "Train Set Accuracy on Sample: 0.63415\n",
      "\n",
      "Cool\n",
      "[[50217 27853]\n",
      " [ 8835 13095]]\n",
      "False Positive Rate: 0.356769565774\n",
      "False Negative Rate: 0.402872777018\n",
      "True Positive Rate: 0.319795838625\n",
      "True Negative Rate: 0.850386100386\n",
      "Positive Accuracy: 0.57528499772\n",
      "Negative Accuracy: 0.6432432953\n",
      "Cross Validated Accuracy on Sample: 0.622059980425\n",
      "Cross Validated AUC on Sample: 0.645712321768\n",
      "Train Set Accuracy on Sample: 0.63312\n",
      "\n"
     ]
    }
   ],
   "source": [
    "u_tune = 0.0\n",
    "f_tune = 0.0\n",
    "c_tune = 0.0\n",
    "\n",
    "weights = {0:1/(1 - frac_useful + u_tune), 1:1/(frac_useful - u_tune)}\n",
    "svm = LinearSVC(C=0.001, penalty='l2', class_weight='balanced') #initialize logistic regression model\n",
    "\n",
    "rand = RandomForestClassifier(n_estimators=500, criterion='gini', \n",
    "                              max_features= 17, max_depth=15, class_weight='balanced_subsample')\n",
    "\n",
    "\n",
    "useful_words = test_model(x, y_useful, svm, \"Useful\")\n",
    "funny_words = test_model(x, y_funny, \n",
    "                         svm, \"Funny\")\n",
    "cool_words = test_model(x, y_cool, \n",
    "                        svm, \"Cool\")"
   ]
  }
 ],
 "metadata": {
  "anaconda-cloud": {},
  "kernelspec": {
   "display_name": "Python [Root]",
   "language": "python",
   "name": "Python [Root]"
  },
  "language_info": {
   "codemirror_mode": {
    "name": "ipython",
    "version": 2
   },
   "file_extension": ".py",
   "mimetype": "text/x-python",
   "name": "python",
   "nbconvert_exporter": "python",
   "pygments_lexer": "ipython2",
   "version": "2.7.12"
  }
 },
 "nbformat": 4,
 "nbformat_minor": 0
}
