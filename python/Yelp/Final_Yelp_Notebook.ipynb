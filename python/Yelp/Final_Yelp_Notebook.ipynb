{
 "cells": [
  {
   "cell_type": "code",
   "execution_count": 2,
   "metadata": {
    "collapsed": false
   },
   "outputs": [
    {
     "name": "stderr",
     "output_type": "stream",
     "text": [
      "/Users/JSoyinka/anaconda2/lib/python2.7/site-packages/matplotlib/font_manager.py:273: UserWarning: Matplotlib is building the font cache using fc-list. This may take a moment.\n",
      "  warnings.warn('Matplotlib is building the font cache using fc-list. This may take a moment.')\n"
     ]
    }
   ],
   "source": [
    "import numpy as np\n",
    "import pandas as pd\n",
    "import json\n",
    "import re\n",
    "import matplotlib\n",
    "import matplotlib.pyplot as plt\n",
    "from mpl_toolkits.mplot3d import Axes3D\n",
    "import matplotlib.cm as cmx\n",
    "import matplotlib.colors as colors\n",
    "import pandas as pd\n",
    "from sklearn.linear_model import LogisticRegression as LogReg\n",
    "from sklearn.feature_extraction.text import CountVectorizer, TfidfVectorizer\n",
    "from sklearn.feature_extraction.text import TfidfTransformer as Tfidf\n",
    "from sklearn.neighbors import KNeighborsClassifier as KNN\n",
    "from sklearn.tree import DecisionTreeClassifier as dt\n",
    "from sklearn.decomposition import PCA\n",
    "from sklearn.cross_validation import KFold, cross_val_score\n",
    "from sklearn.naive_bayes import GaussianNB\n",
    "from sklearn.metrics import confusion_matrix\n",
    "from sklearn.ensemble import AdaBoostClassifier\n",
    "from sklearn.ensemble import RandomForestClassifier\n",
    "from sklearn.cross_validation import train_test_split as sk_split\n",
    "from sklearn.decomposition import TruncatedSVD as SVD\n",
    "from sklearn import preprocessing\n",
    "from sklearn import svm\n",
    "from sklearn.svm import LinearSVC\n",
    "\n",
    "import nltk\n",
    "from nltk.stem.porter import PorterStemmer\n",
    "from nltk.stem.lancaster import LancasterStemmer\n",
    "\n",
    "%matplotlib inline"
   ]
  },
  {
   "cell_type": "code",
   "execution_count": 3,
   "metadata": {
    "collapsed": false
   },
   "outputs": [],
   "source": [
    "data = []\n",
    "with open('reviews.json') as f:\n",
    "    for line in f:\n",
    "        data.append(json.loads(line))\n",
    "        \n",
    "for rev in data:\n",
    "    rev['cool'] = rev['votes']['cool']\n",
    "    rev['funny'] = rev['votes']['funny']\n",
    "    rev['useful'] = rev['votes']['useful']\n",
    "    del rev['votes']"
   ]
  },
  {
   "cell_type": "code",
   "execution_count": 7,
   "metadata": {
    "collapsed": false
   },
   "outputs": [
    {
     "ename": "AttributeError",
     "evalue": "'dict' object has no attribute 'duplicated'",
     "output_type": "error",
     "traceback": [
      "\u001b[0;31m---------------------------------------------------------------------------\u001b[0m",
      "\u001b[0;31mAttributeError\u001b[0m                            Traceback (most recent call last)",
      "\u001b[0;32m<ipython-input-7-3d2f53f81a8a>\u001b[0m in \u001b[0;36m<module>\u001b[0;34m()\u001b[0m\n\u001b[0;32m----> 1\u001b[0;31m \u001b[0mrev\u001b[0m\u001b[0;34m.\u001b[0m\u001b[0mduplicated\u001b[0m\u001b[0;34m(\u001b[0m\u001b[0msubset\u001b[0m\u001b[0;34m=\u001b[0m\u001b[0;34m[\u001b[0m\u001b[0;34m'business_id'\u001b[0m\u001b[0;34m,\u001b[0m \u001b[0;34m'text'\u001b[0m\u001b[0;34m,\u001b[0m \u001b[0;34m'date'\u001b[0m\u001b[0;34m,\u001b[0m \u001b[0;34m'user_id'\u001b[0m\u001b[0;34m]\u001b[0m\u001b[0;34m)\u001b[0m\u001b[0;34m\u001b[0m\u001b[0m\n\u001b[0m\u001b[1;32m      2\u001b[0m \u001b[0mbefore\u001b[0m \u001b[0;34m=\u001b[0m \u001b[0mrev\u001b[0m\u001b[0;34m.\u001b[0m\u001b[0mshape\u001b[0m\u001b[0;34m[\u001b[0m\u001b[0;36m0\u001b[0m\u001b[0;34m]\u001b[0m\u001b[0;34m\u001b[0m\u001b[0m\n\u001b[1;32m      3\u001b[0m \u001b[0mreviews\u001b[0m \u001b[0;34m=\u001b[0m \u001b[0mrev\u001b[0m\u001b[0;34m.\u001b[0m\u001b[0mdrop\u001b[0m\u001b[0;34m(\u001b[0m\u001b[0mreviews\u001b[0m\u001b[0;34m[\u001b[0m\u001b[0mreviews\u001b[0m\u001b[0;34m.\u001b[0m\u001b[0mduplicated\u001b[0m\u001b[0;34m(\u001b[0m\u001b[0msubset\u001b[0m\u001b[0;34m=\u001b[0m\u001b[0;34m[\u001b[0m\u001b[0;34m'business_id'\u001b[0m\u001b[0;34m,\u001b[0m \u001b[0;34m'text'\u001b[0m\u001b[0;34m,\u001b[0m \u001b[0;34m'date'\u001b[0m\u001b[0;34m,\u001b[0m \u001b[0;34m'user_id'\u001b[0m\u001b[0;34m]\u001b[0m\u001b[0;34m)\u001b[0m\u001b[0;34m]\u001b[0m\u001b[0;34m.\u001b[0m\u001b[0mindex\u001b[0m\u001b[0;34m)\u001b[0m\u001b[0;34m\u001b[0m\u001b[0m\n\u001b[1;32m      4\u001b[0m \u001b[0mafter\u001b[0m \u001b[0;34m=\u001b[0m \u001b[0mrev\u001b[0m\u001b[0;34m.\u001b[0m\u001b[0mshape\u001b[0m\u001b[0;34m[\u001b[0m\u001b[0;36m0\u001b[0m\u001b[0;34m]\u001b[0m\u001b[0;34m\u001b[0m\u001b[0m\n\u001b[1;32m      5\u001b[0m \u001b[0;34m\u001b[0m\u001b[0m\n",
      "\u001b[0;31mAttributeError\u001b[0m: 'dict' object has no attribute 'duplicated'"
     ]
    }
   ],
   "source": [
    "reviews.duplicated(subset=['business_id', 'text', 'date', 'user_id'])\n",
    "before = reviews.shape[0]\n",
    "reviews = reviews.drop(reviews[reviews.duplicated(subset=['business_id', 'text', 'date', 'user_id'])].index)\n",
    "after = reviews.shape[0]\n",
    "\n",
    "print before - after, \"duplicates dropped\"\n",
    "\n",
    "reviews_2015 = reviews[(reviews['date'] >= '2015-01-01') & (reviews['date'] < '2016-01-01')]\n",
    "del reviews_2015['review_id']\n",
    "del reviews_2015['type']\n",
    "\n",
    "print reviews_2015.shape\n",
    "reviews_2015.to_json(\"json_2015.json\", orient='records')"
   ]
  },
  {
   "cell_type": "code",
   "execution_count": 6,
   "metadata": {
    "collapsed": false
   },
   "outputs": [
    {
     "data": {
      "text/html": [
       "<div>\n",
       "<table border=\"1\" class=\"dataframe\">\n",
       "  <thead>\n",
       "    <tr style=\"text-align: right;\">\n",
       "      <th></th>\n",
       "      <th>business_id</th>\n",
       "      <th>cool</th>\n",
       "      <th>date</th>\n",
       "      <th>funny</th>\n",
       "      <th>stars</th>\n",
       "      <th>text</th>\n",
       "      <th>useful</th>\n",
       "      <th>user_id</th>\n",
       "    </tr>\n",
       "  </thead>\n",
       "  <tbody>\n",
       "    <tr>\n",
       "      <th>0</th>\n",
       "      <td>vT12uXtdBQ10_lUcl-M40w</td>\n",
       "      <td>0</td>\n",
       "      <td>2015-01-01</td>\n",
       "      <td>0</td>\n",
       "      <td>1</td>\n",
       "      <td>terrible experience....I am a local first of a...</td>\n",
       "      <td>0</td>\n",
       "      <td>C_xtIn19eKivN335dzjadg</td>\n",
       "    </tr>\n",
       "    <tr>\n",
       "      <th>1</th>\n",
       "      <td>aWMxTWSEqBvH2KhdGPLibQ</td>\n",
       "      <td>0</td>\n",
       "      <td>2015-01-01</td>\n",
       "      <td>0</td>\n",
       "      <td>3</td>\n",
       "      <td>Bad service at this location.\\n\\nGood iced cof...</td>\n",
       "      <td>0</td>\n",
       "      <td>T7J9ae0wTskrI_Bgwp-4cA</td>\n",
       "    </tr>\n",
       "    <tr>\n",
       "      <th>2</th>\n",
       "      <td>Z98h1BhssZeFfZvcVTYOpw</td>\n",
       "      <td>0</td>\n",
       "      <td>2015-01-01</td>\n",
       "      <td>0</td>\n",
       "      <td>2</td>\n",
       "      <td>We have been to Maya's many times since it fir...</td>\n",
       "      <td>1</td>\n",
       "      <td>O7WaUuYwX45Ia6Mvf01UCw</td>\n",
       "    </tr>\n",
       "    <tr>\n",
       "      <th>3</th>\n",
       "      <td>3rwM9fPYPk9qDkEBOhyHbg</td>\n",
       "      <td>1</td>\n",
       "      <td>2015-01-01</td>\n",
       "      <td>0</td>\n",
       "      <td>5</td>\n",
       "      <td>booked the hotel for new years, over the phone...</td>\n",
       "      <td>1</td>\n",
       "      <td>kq-4vbC1cHQbRKyDmwERSA</td>\n",
       "    </tr>\n",
       "    <tr>\n",
       "      <th>4</th>\n",
       "      <td>JpYn_HdxQNZQSlWWv4P6Iw</td>\n",
       "      <td>0</td>\n",
       "      <td>2015-01-01</td>\n",
       "      <td>0</td>\n",
       "      <td>3</td>\n",
       "      <td>Good, not great. Not a ton of tea options but ...</td>\n",
       "      <td>1</td>\n",
       "      <td>XweddetOpWNuJQ5mLb_5JQ</td>\n",
       "    </tr>\n",
       "  </tbody>\n",
       "</table>\n",
       "</div>"
      ],
      "text/plain": [
       "              business_id  cool       date  funny  stars  \\\n",
       "0  vT12uXtdBQ10_lUcl-M40w     0 2015-01-01      0      1   \n",
       "1  aWMxTWSEqBvH2KhdGPLibQ     0 2015-01-01      0      3   \n",
       "2  Z98h1BhssZeFfZvcVTYOpw     0 2015-01-01      0      2   \n",
       "3  3rwM9fPYPk9qDkEBOhyHbg     1 2015-01-01      0      5   \n",
       "4  JpYn_HdxQNZQSlWWv4P6Iw     0 2015-01-01      0      3   \n",
       "\n",
       "                                                text  useful  \\\n",
       "0  terrible experience....I am a local first of a...       0   \n",
       "1  Bad service at this location.\\n\\nGood iced cof...       0   \n",
       "2  We have been to Maya's many times since it fir...       1   \n",
       "3  booked the hotel for new years, over the phone...       1   \n",
       "4  Good, not great. Not a ton of tea options but ...       1   \n",
       "\n",
       "                  user_id  \n",
       "0  C_xtIn19eKivN335dzjadg  \n",
       "1  T7J9ae0wTskrI_Bgwp-4cA  \n",
       "2  O7WaUuYwX45Ia6Mvf01UCw  \n",
       "3  kq-4vbC1cHQbRKyDmwERSA  \n",
       "4  XweddetOpWNuJQ5mLb_5JQ  "
      ]
     },
     "execution_count": 6,
     "metadata": {},
     "output_type": "execute_result"
    }
   ],
   "source": [
    "data = pd.read_json('json_2015.json')\n",
    "data.head()"
   ]
  },
  {
   "cell_type": "code",
   "execution_count": 7,
   "metadata": {
    "collapsed": true
   },
   "outputs": [],
   "source": [
    "samp = data.sample(50000) #draw samples"
   ]
  },
  {
   "cell_type": "code",
   "execution_count": 8,
   "metadata": {
    "collapsed": true
   },
   "outputs": [],
   "source": [
    "vectorizer = CountVectorizer(stop_words='english', binary=False, max_features=10000) #using non-binary Count Vec.\n",
    "reviews = samp.text.values\n",
    "\n",
    "#tokenize words\n",
    "x = vectorizer.fit_transform(reviews)"
   ]
  },
  {
   "cell_type": "code",
   "execution_count": 9,
   "metadata": {
    "collapsed": true
   },
   "outputs": [],
   "source": [
    "binary_y = [] #class observations according to whether they have at least one \"helpful\" vote\n",
    "\n",
    "for score in samp.useful.values:\n",
    "    i = 1 if score > 0 else 0\n",
    "    binary_y.append(i)"
   ]
  },
  {
   "cell_type": "code",
   "execution_count": 10,
   "metadata": {
    "collapsed": false
   },
   "outputs": [
    {
     "name": "stdout",
     "output_type": "stream",
     "text": [
      "C= 0.0001 : 0.646140014067\n",
      "C= 0.001 : 0.662779856527\n",
      "C= 0.01 : 0.66393987653\n",
      "C= 0.1 : 0.653520002091\n",
      "C= 1 : 0.627160042005\n",
      "C= 10 : 0.606280070737\n",
      "C= 100 : 0.600379882726\n"
     ]
    },
    {
     "data": {
      "image/png": "[encoded data removed]",
      "text/plain": [
       "<matplotlib.figure.Figure at 0x3fb812550>"
      ]
     },
     "metadata": {},
     "output_type": "display_data"
    }
   ],
   "source": [
    "cvals = [0.0001, 0.001, 0.01, 0.1, 1, 10, 100]\n",
    "scores = []\n",
    "for c in cvals: #try cross validating the data with different regularization parameters\n",
    "    log_model = LogReg(C=c, penalty='l2') #initiate unregularized logistic regression model\n",
    "    score = cross_val_score(log_model, x, binary_y, n_jobs=-1).mean() #cross validate\n",
    "    scores.append(score)\n",
    "    print \"C=\",c ,\":\", score\n",
    "    \n",
    "    \n",
    "plt.plot(cvals, scores)\n",
    "plt.xscale('log')\n",
    "plt.title(\"Accuracy by Regularization Parameter value\")\n",
    "plt.xlabel(\"Parameter value\")\n",
    "plt.ylabel(\"Accuracy\")\n",
    "plt.grid()\n",
    "plt.show()"
   ]
  },
  {
   "cell_type": "code",
   "execution_count": 11,
   "metadata": {
    "collapsed": false
   },
   "outputs": [
    {
     "name": "stdout",
     "output_type": "stream",
     "text": [
      "Cross Validated Accuracy on Sample: 0.66393987653\n"
     ]
    }
   ],
   "source": [
    "log_model = LogReg(C=0.01, penalty='l2') #initialize logistic regression model\n",
    "print \"Cross Validated Accuracy on Sample:\", cross_val_score(log_model, x, binary_y, n_jobs=-1).mean()"
   ]
  },
  {
   "cell_type": "code",
   "execution_count": 12,
   "metadata": {
    "collapsed": false
   },
   "outputs": [
    {
     "name": "stdout",
     "output_type": "stream",
     "text": [
      "NO CLASS BALANCE CORRECTION\n",
      "[[28903  2247]\n",
      " [12761  6089]]\n",
      "\n",
      "False Positive Rate: 0.0721348314607\n",
      "False Negative Rate: 0.676976127321\n",
      "True Positive Rate: 0.730446257198\n",
      "True Negative Rate: 0.693716397849\n",
      "\n",
      "Accuracy on Positive Reviews: 0.323023872679\n",
      "Accuracy on Negative Reviews: 0.927865168539\n",
      "Overall F1 Score: 0.377639697816\n",
      "\n",
      "\n",
      "WITH CLASS BALANCE CORRECTION\n",
      "[[24119  7031]\n",
      " [ 8301 10549]]\n",
      "\n",
      "False Positive Rate: 0.225714285714\n",
      "False Negative Rate: 0.440371352785\n",
      "True Positive Rate: 0.600056882821\n",
      "True Negative Rate: 0.743954349167\n",
      "\n",
      "Accuracy on Positive Reviews: 0.559628647215\n",
      "Accuracy on Negative Reviews: 0.774285714286\n",
      "Overall F1 Score: 0.512523895903\n"
     ]
    }
   ],
   "source": [
    "log_model = LogReg(C=0.01, penalty='l2') #initialize logistic regression model\n",
    "log_model.fit(x, binary_y)\n",
    "y_pred = log_model.predict(x)\n",
    "binary_y = np.array(binary_y)\n",
    "\n",
    "tn, fp, fn, tp = confusion_matrix(binary_y, y_pred).ravel() #from sklearn docs\n",
    "\n",
    "print \"NO CLASS BALANCE CORRECTION\"\n",
    "print confusion_matrix(binary_y, y_pred)\n",
    "print\n",
    "print \"False Positive Rate:\", fp/float(fp+tn)\n",
    "print \"False Negative Rate:\", fn/float(fn+tp)\n",
    "print \"True Positive Rate:\", tp/float(tp+fp)\n",
    "print \"True Negative Rate:\", tn/float(tn+fn)\n",
    "print\n",
    "print \"Accuracy on Positive Reviews:\", np.mean(y_pred[binary_y == 1] == binary_y[binary_y == 1])\n",
    "print \"Accuracy on Negative Reviews:\", np.mean(y_pred[binary_y == 0] == binary_y[binary_y == 0])\n",
    "\n",
    "print \"Overall F1 Score:\", cross_val_score(log_model, x, binary_y, n_jobs=-1, scoring='f1').mean()\n",
    "\n",
    "#BALANCED CLASSES\n",
    "log_model = LogReg(C=0.01, penalty='l2', class_weight='balanced') #initialize logistic regression model\n",
    "log_model.fit(x, binary_y)\n",
    "y_pred = log_model.predict(x)\n",
    "binary_y = np.array(binary_y)\n",
    "\n",
    "tn, fp, fn, tp = confusion_matrix(binary_y, y_pred).ravel() #from sklearn docs\n",
    "\n",
    "print \"\\n\\nWITH CLASS BALANCE CORRECTION\"\n",
    "print confusion_matrix(binary_y, y_pred)\n",
    "print\n",
    "print \"False Positive Rate:\", fp/float(fp+tn)\n",
    "print \"False Negative Rate:\", fn/float(fn+tp)\n",
    "print \"True Positive Rate:\", tp/float(tp+fp)\n",
    "print \"True Negative Rate:\", tn/float(tn+fn)\n",
    "print\n",
    "print \"Accuracy on Positive Reviews:\", np.mean(y_pred[binary_y == 1] == binary_y[binary_y == 1])\n",
    "print \"Accuracy on Negative Reviews:\", np.mean(y_pred[binary_y == 0] == binary_y[binary_y == 0])\n",
    "\n",
    "print \"Overall F1 Score:\", cross_val_score(log_model, x, binary_y, n_jobs=-1, scoring='f1').mean()"
   ]
  },
  {
   "cell_type": "code",
   "execution_count": 13,
   "metadata": {
    "collapsed": true
   },
   "outputs": [],
   "source": [
    "#same procedure on full dataset\n",
    "\n",
    "vectorizer = CountVectorizer(stop_words='english', binary=False, max_features=10000) #using non-binary Count Vec.\n",
    "reviews = data.text.values\n",
    "x = vectorizer.fit_transform(reviews)\n",
    "\n",
    "binary_y = []\n",
    "\n",
    "for score in data.useful.values:\n",
    "    i = 1 if score > 0 else 0\n",
    "    binary_y.append(i)"
   ]
  },
  {
   "cell_type": "code",
   "execution_count": 14,
   "metadata": {
    "collapsed": false
   },
   "outputs": [
    {
     "name": "stdout",
     "output_type": "stream",
     "text": [
      "Accuracy: 0.655814588905\n",
      "F1 Score: 0.525511083732\n",
      "\n",
      "\n",
      "WITH CLASS BALANCE CORRECTION\n",
      "[[314277 101194]\n",
      " [119596 131748]]\n",
      "\n",
      "False Positive Rate: 0.243564532783\n",
      "False Negative Rate: 0.475825959641\n",
      "True Positive Rate: 0.56558284895\n",
      "True Negative Rate: 0.724352517903\n",
      "\n",
      "Accuracy on Positive Reviews: 0.524174040359\n",
      "Accuracy on Negative Reviews: 0.756435467217\n",
      "Overall F1 Score: 0.525511083732\n"
     ]
    }
   ],
   "source": [
    "log_model = LogReg(C=0.01, penalty='l2', class_weight='balanced') #initialize logistic regression model\n",
    "print \"Accuracy:\", cross_val_score(log_model, x, binary_y, n_jobs=-1).mean()\n",
    "print \"F1 Score:\",cross_val_score(log_model, x, binary_y, scoring='f1', n_jobs=-1).mean()\n",
    "\n",
    "log_model.fit(x, binary_y)\n",
    "y_pred = log_model.predict(x)\n",
    "binary_y = np.array(binary_y)\n",
    "\n",
    "tn, fp, fn, tp = confusion_matrix(binary_y, y_pred).ravel() #from sklearn docs\n",
    "\n",
    "print \"\\n\\nWITH CLASS BALANCE CORRECTION\"\n",
    "print confusion_matrix(binary_y, y_pred)\n",
    "print\n",
    "print \"False Positive Rate:\", fp/float(fp+tn)\n",
    "print \"False Negative Rate:\", fn/float(fn+tp)\n",
    "print \"True Positive Rate:\", tp/float(tp+fp)\n",
    "print \"True Negative Rate:\", tn/float(tn+fn)\n",
    "print\n",
    "print \"Accuracy on Positive Reviews:\", np.mean(y_pred[binary_y == 1] == binary_y[binary_y == 1])\n",
    "print \"Accuracy on Negative Reviews:\", np.mean(y_pred[binary_y == 0] == binary_y[binary_y == 0])\n",
    "\n",
    "print \"Overall F1 Score:\", cross_val_score(log_model, x, binary_y, n_jobs=-1, scoring='f1').mean()"
   ]
  },
  {
   "cell_type": "markdown",
   "metadata": {},
   "source": [
    "Overall, while our baseline model establishes some degree of separation between helpful and unhelpful reviews it seems to have a relatively low accuracy and F1 score even when tuned. This is likely due to a confounding element of our question: the reality that reviews can lack \"useful\" votes for multiple reasons. \n",
    "\n",
    "On one hand, a review can have no useful votes when it actually contains useless content. This is the sort of review we'd like to classify as 0 or useless. On the other hand, a great review can recieve no useful votes simply because it goes unnoticed by other Yelp users. This likely impedes our model's capacity to make solid predictions regarding a review's helpfulness. A \"denominator\" value such as the sort seen in the Amazon dataset we looked at previously would help alleviate this issue.\n",
    "\n",
    "Given this difficulty, it will make sense for us to fit some additional models to the data to see which works best. Playing with class weights would also make sense, as the model currently seems to be making a fair number of false negative errors (which are severely impacting its performance). We can also explore other proxies for review quality, such as ratios between the different review classifications (useful, cool, funny) for a different review. Our baseline modeling approach is also extensible to direct analysis of the lingustic characteristics correlating with these other classifications.\n",
    "\n",
    "This model represents a decent start to what will be a more involved and nuanced project. Our next steps will be to play around with other modeling techniques and adjust parameters and inputs/weighting to try to reduce our false postiive and negative rates."
   ]
  },
  {
   "cell_type": "code",
   "execution_count": 15,
   "metadata": {
    "collapsed": true
   },
   "outputs": [],
   "source": [
    "data = pd.read_json('json_2015.json')\n",
    "data = data.sample(frac=1)"
   ]
  },
  {
   "cell_type": "code",
   "execution_count": 16,
   "metadata": {
    "collapsed": false
   },
   "outputs": [
    {
     "data": {
      "text/html": [
       "<div>\n",
       "<table border=\"1\" class=\"dataframe\">\n",
       "  <thead>\n",
       "    <tr style=\"text-align: right;\">\n",
       "      <th></th>\n",
       "      <th>business_id</th>\n",
       "      <th>cool</th>\n",
       "      <th>date</th>\n",
       "      <th>funny</th>\n",
       "      <th>stars</th>\n",
       "      <th>text</th>\n",
       "      <th>useful</th>\n",
       "      <th>user_id</th>\n",
       "    </tr>\n",
       "  </thead>\n",
       "  <tbody>\n",
       "    <tr>\n",
       "      <th>9981</th>\n",
       "      <td>8PJSfnXpHoENxD-rsGGXWA</td>\n",
       "      <td>1</td>\n",
       "      <td>2015-01-06</td>\n",
       "      <td>1</td>\n",
       "      <td>4</td>\n",
       "      <td>I stayed here with a group of friends for the ...</td>\n",
       "      <td>3</td>\n",
       "      <td>CUeJQCLwMl3LocFKNUm2tQ</td>\n",
       "    </tr>\n",
       "    <tr>\n",
       "      <th>168112</th>\n",
       "      <td>5mMk3Ted-EOyHvJ-j9BhiQ</td>\n",
       "      <td>6</td>\n",
       "      <td>2015-04-09</td>\n",
       "      <td>5</td>\n",
       "      <td>3</td>\n",
       "      <td>More like a 3.5 for our particular experiences...</td>\n",
       "      <td>7</td>\n",
       "      <td>9A2-wSoBUxlMd3LwmlGrrQ</td>\n",
       "    </tr>\n",
       "    <tr>\n",
       "      <th>607345</th>\n",
       "      <td>iUPJmJvHy9fVfRxsuwwdLQ</td>\n",
       "      <td>0</td>\n",
       "      <td>2015-11-26</td>\n",
       "      <td>0</td>\n",
       "      <td>5</td>\n",
       "      <td>What a wonderful experience! Came in a little ...</td>\n",
       "      <td>0</td>\n",
       "      <td>jF4EiSxj3uv1WKR5Lt5ieQ</td>\n",
       "    </tr>\n",
       "    <tr>\n",
       "      <th>57328</th>\n",
       "      <td>hUDeQq7KZXx_w7aFxdO-aQ</td>\n",
       "      <td>2</td>\n",
       "      <td>2015-02-05</td>\n",
       "      <td>0</td>\n",
       "      <td>5</td>\n",
       "      <td>I came here six months ago when I was visiting...</td>\n",
       "      <td>1</td>\n",
       "      <td>roEWEvo1EQId1JguoLWISg</td>\n",
       "    </tr>\n",
       "    <tr>\n",
       "      <th>570859</th>\n",
       "      <td>qh04JalvbBzHL8xodlmlfg</td>\n",
       "      <td>0</td>\n",
       "      <td>2015-11-06</td>\n",
       "      <td>0</td>\n",
       "      <td>5</td>\n",
       "      <td>Best service ever!! Kasey is a rockstar! \\nNo ...</td>\n",
       "      <td>0</td>\n",
       "      <td>H7cL5HQKriVcWVV8bH5WJg</td>\n",
       "    </tr>\n",
       "  </tbody>\n",
       "</table>\n",
       "</div>"
      ],
      "text/plain": [
       "                   business_id  cool       date  funny  stars  \\\n",
       "9981    8PJSfnXpHoENxD-rsGGXWA     1 2015-01-06      1      4   \n",
       "168112  5mMk3Ted-EOyHvJ-j9BhiQ     6 2015-04-09      5      3   \n",
       "607345  iUPJmJvHy9fVfRxsuwwdLQ     0 2015-11-26      0      5   \n",
       "57328   hUDeQq7KZXx_w7aFxdO-aQ     2 2015-02-05      0      5   \n",
       "570859  qh04JalvbBzHL8xodlmlfg     0 2015-11-06      0      5   \n",
       "\n",
       "                                                     text  useful  \\\n",
       "9981    I stayed here with a group of friends for the ...       3   \n",
       "168112  More like a 3.5 for our particular experiences...       7   \n",
       "607345  What a wonderful experience! Came in a little ...       0   \n",
       "57328   I came here six months ago when I was visiting...       1   \n",
       "570859  Best service ever!! Kasey is a rockstar! \\nNo ...       0   \n",
       "\n",
       "                       user_id  \n",
       "9981    CUeJQCLwMl3LocFKNUm2tQ  \n",
       "168112  9A2-wSoBUxlMd3LwmlGrrQ  \n",
       "607345  jF4EiSxj3uv1WKR5Lt5ieQ  \n",
       "57328   roEWEvo1EQId1JguoLWISg  \n",
       "570859  H7cL5HQKriVcWVV8bH5WJg  "
      ]
     },
     "execution_count": 16,
     "metadata": {},
     "output_type": "execute_result"
    }
   ],
   "source": [
    "data.head()"
   ]
  },
  {
   "cell_type": "code",
   "execution_count": 17,
   "metadata": {
    "collapsed": true
   },
   "outputs": [],
   "source": [
    "#standardize predictor variables\n",
    "\n",
    "def scorer_pos(estimator, X, y): #custom scoring functions to get positive and negative accuracy\n",
    "    y_pred = estimator.predict(X)\n",
    "    return np.float(np.mean(y_pred[y == 1] == y[y == 1]))\n",
    "\n",
    "def scorer_neg(estimator, X, y):\n",
    "    estimator.fit(X, y)\n",
    "    y_pred = estimator.predict(X)\n",
    "    return np.float(np.mean(y_pred[y == 0] == y[y == 0]))"
   ]
  },
  {
   "cell_type": "code",
   "execution_count": 23,
   "metadata": {
    "collapsed": true
   },
   "outputs": [],
   "source": [
    "def test_model(x, binary_y, model, title, coefs=False):\n",
    "    model.fit(x, binary_y)\n",
    "    y_pred = model.predict(x)\n",
    "    binary_y = np.array(binary_y)\n",
    "\n",
    "    tn, fp, fn, tp = confusion_matrix(binary_y, y_pred).ravel() #from sklearn docs\n",
    "\n",
    "    print title\n",
    "    print confusion_matrix(binary_y, y_pred)\n",
    "\n",
    "    print \"False Positive Rate:\", fp/float(fp+tn)\n",
    "    print \"False Negative Rate:\", fn/float(fn+tp)\n",
    "    print \"True Positive Rate:\", tp/float(tp+fp)\n",
    "    print \"True Negative Rate:\", tn/float(tn+fn)\n",
    "    \n",
    "    print \"Positive Accuracy:\", cross_val_score(model, x, binary_y, n_jobs=-1, scoring=scorer_pos).mean()\n",
    "    print \"Negative Accuracy:\", cross_val_score(model, x, binary_y, n_jobs=-1, scoring=scorer_neg).mean()\n",
    "    print \"Cross Validated Accuracy on Sample:\", cross_val_score(model, x, binary_y, n_jobs=-1).mean()\n",
    "    print \"Cross Validated AUC on Sample:\", cross_val_score(model, x, binary_y, n_jobs=-1, scoring='roc_auc').mean()\n",
    "    print \"Train Set Accuracy on Sample:\", np.mean(y_pred == binary_y)\n",
    "    print\n",
    "    if coefs == True:\n",
    "        mydict = zip(model.coef_[0], vectorizer.get_feature_names())\n",
    "        words = sorted([(i[0], i[1].encode('utf-8')) for i in mydict], reverse=True, key=lambda x: x[0])\n",
    "        return words"
   ]
  },
  {
   "cell_type": "code",
   "execution_count": 24,
   "metadata": {
    "collapsed": true
   },
   "outputs": [],
   "source": [
    "stemmer = PorterStemmer()\n",
    "def stem_tokens(tokens, stemmer):\n",
    "    stemmed = []\n",
    "    for item in tokens:\n",
    "        stemmed.append(stemmer.stem(item))\n",
    "    return stemmed\n",
    "\n",
    "def tokenize(text):\n",
    "    text = re.sub(\"[^a-zA-Z]\", \" \", text)\n",
    "    tokens = nltk.word_tokenize(text)\n",
    "    stems = stem_tokens(tokens, stemmer)\n",
    "    return stems"
   ]
  },
  {
   "cell_type": "code",
   "execution_count": 25,
   "metadata": {
    "collapsed": true
   },
   "outputs": [],
   "source": [
    "samp = data.sample(100000) #draw samples\n",
    "\n",
    "#lengths = [len(i[1]['text']) for i in samp.iterrows()]\n",
    "\n",
    "samp.shape\n",
    "frac_useful = 1 - data['useful'].value_counts()[0] / float(data.shape[0])\n",
    "frac_funny = 1 - data['funny'].value_counts()[0] / float(data.shape[0])\n",
    "frac_cool = 1 - data['cool'].value_counts()[0] / float(data.shape[0])"
   ]
  },
  {
   "cell_type": "code",
   "execution_count": 26,
   "metadata": {
    "collapsed": true
   },
   "outputs": [],
   "source": [
    "vectorizer = TfidfVectorizer(stop_words='english', \n",
    "                             binary=False, \n",
    "                             max_features=10000,\n",
    "                             analyzer='word',\n",
    "                             #tokenizer=tokenize,\n",
    "                             sublinear_tf=False\n",
    "                            ) #using non-binary Count Vec.\n",
    "reviews = samp.text.values\n",
    "\n",
    "#tokenize words\n",
    "x = vectorizer.fit_transform(reviews)\n",
    "\n",
    "y_useful = [] #class observations according to whether they have at least one \"helpful\" vote\n",
    "y_cool = []\n",
    "y_funny = []\n",
    "\n",
    "\n",
    "for score in samp.useful.values:\n",
    "    i = 1 if score > 0 else 0\n",
    "    y_useful.append(i)\n",
    "\n",
    "for score in samp.cool.values:\n",
    "    i = 1 if score > 0 else 0\n",
    "    y_cool.append(i)\n",
    "\n",
    "for score in samp.funny.values:\n",
    "    i = 1 if score > 0 else 0\n",
    "    y_funny.append(i)"
   ]
  },
  {
   "cell_type": "code",
   "execution_count": 27,
   "metadata": {
    "collapsed": false
   },
   "outputs": [
    {
     "name": "stdout",
     "output_type": "stream",
     "text": [
      "Useful\n",
      "[[38657 23529]\n",
      " [13939 23875]]\n",
      "False Positive Rate: 0.378364905284\n",
      "False Negative Rate: 0.368620087798\n",
      "True Positive Rate: 0.503649481056\n",
      "True Negative Rate: 0.734979846376\n",
      "Positive Accuracy: 0.620696071543\n",
      "Negative Accuracy: 0.609043857753\n",
      "Cross Validated Accuracy on Sample: 0.610769927887\n",
      "Cross Validated AUC on Sample: 0.653549500243\n",
      "Train Set Accuracy on Sample: 0.62532\n",
      "\n",
      "Funny\n",
      "[[52392 30194]\n",
      " [ 5666 11748]]\n",
      "False Positive Rate: 0.365606761437\n",
      "False Negative Rate: 0.325370391639\n",
      "True Positive Rate: 0.280101091984\n",
      "True Negative Rate: 0.902407936891\n",
      "Positive Accuracy: 0.650338446086\n",
      "Negative Accuracy: 0.629380255286\n",
      "Cross Validated Accuracy on Sample: 0.629439905502\n",
      "Cross Validated AUC on Sample: 0.683893141718\n",
      "Train Set Accuracy on Sample: 0.6414\n",
      "\n",
      "Cool\n",
      "[[50529 27541]\n",
      " [ 8573 13357]]\n",
      "False Positive Rate: 0.352773152299\n",
      "False Negative Rate: 0.390925672595\n",
      "True Positive Rate: 0.326592987432\n",
      "True Negative Rate: 0.854945687117\n",
      "Positive Accuracy: 0.582261741906\n",
      "Negative Accuracy: 0.642526010662\n",
      "Cross Validated Accuracy on Sample: 0.624209983625\n",
      "Cross Validated AUC on Sample: 0.651090136574\n",
      "Train Set Accuracy on Sample: 0.63886\n",
      "\n"
     ]
    }
   ],
   "source": [
    "u_tune = 0.00\n",
    "f_tune = 0.00\n",
    "c_tune = 0.00\n",
    "\n",
    "weights = {0:1/(1 - frac_useful + u_tune), 1:1/(frac_useful - u_tune)}\n",
    "log_model = LogReg(C=0.01, penalty='l2', class_weight=weights) #initialize logistic regression model\n",
    "\n",
    "rand = RandomForestClassifier(n_estimators=300, criterion='gini', \n",
    "                              max_features= 17, max_depth=5, class_weight='balanced')\n",
    "\n",
    "\n",
    "\n",
    "useful_words = test_model(x, y_useful, \n",
    "                          log_model,\n",
    "                          \"Useful\",\n",
    "                          coefs=True)\n",
    "funny_words = test_model(x, y_funny, \n",
    "                         log_model.set_params(class_weight={0:1/(1 - frac_funny + f_tune), 1:1/(frac_funny - f_tune)}), \n",
    "                         \"Funny\",\n",
    "                          coefs=True)\n",
    "cool_words = test_model(x, y_cool, \n",
    "                        log_model.set_params(class_weight={0:1/(1 - frac_cool + c_tune), 1:1/(frac_cool - c_tune)}),\n",
    "                        #rand,\n",
    "                        \"Cool\",\n",
    "                          coefs=True)"
   ]
  },
  {
   "cell_type": "code",
   "execution_count": 28,
   "metadata": {
    "collapsed": false
   },
   "outputs": [
    {
     "name": "stdout",
     "output_type": "stream",
     "text": [
      "10 Coolest Words:\n",
      "like 0.755078060151\n",
      "just 0.650932630418\n",
      "flavors 0.594166484579\n",
      "located 0.557141978293\n",
      "menu 0.517983165153\n",
      "yelp 0.517478710958\n",
      "review 0.501846657456\n",
      "chef 0.498323097554\n",
      "really 0.488916416988\n",
      "ll 0.487814525657\n",
      "\n",
      "10 Least Cool Words:\n",
      "great -0.325067620455\n",
      "bad -0.337038723792\n",
      "terrible -0.348491953549\n",
      "price -0.357142585724\n",
      "manager -0.372340964228\n",
      "worst -0.389642196465\n",
      "horrible -0.398784468502\n",
      "rude -0.498411946847\n",
      "service -0.644688522233\n",
      "food -0.667599936786\n",
      "\n",
      "10 Funniest Words:\n",
      "like 1.15703457555\n",
      "don 0.961634747472\n",
      "just 0.835165187502\n",
      "pretty 0.697534347275\n",
      "know 0.694760996528\n",
      "review 0.60718765986\n",
      "want 0.583590007585\n",
      "wasn 0.551588726153\n",
      "didn 0.500095556799\n",
      "yes 0.499346406054\n",
      "\n",
      "10 Least Funny Words:\n",
      "highly -0.582466540526\n",
      "service -0.615695561086\n",
      "delicious -0.654805720063\n",
      "friendly -0.667676996271\n",
      "amazing -0.684717147884\n",
      "good -0.715257426874\n",
      "excellent -0.719604208411\n",
      "recommend -0.855346632643\n",
      "best -0.886572182226\n",
      "great -1.47971165296\n",
      "\n",
      "10 Most Useful Words:\n",
      "like 0.757365182179\n",
      "just 0.712777685654\n",
      "don 0.642219575671\n",
      "say 0.508115560491\n",
      "way 0.484705628752\n",
      "review 0.479465607085\n",
      "know 0.476188110669\n",
      "think 0.474316906835\n",
      "came 0.465865689572\n",
      "yelp 0.461827959127\n",
      "\n",
      "10 Least Useful Words:\n",
      "friendly -0.353452451361\n",
      "amazing -0.372452523658\n",
      "love -0.479607624977\n",
      "best -0.516914840244\n",
      "excellent -0.531571502467\n",
      "service -0.544098701241\n",
      "awesome -0.576084729978\n",
      "food -0.58947322591\n",
      "good -0.791706705382\n",
      "great -1.09434436986\n"
     ]
    }
   ],
   "source": [
    "print \"10 Coolest Words:\"\n",
    "for word in cool_words[:10]:\n",
    "    print word[1], word[0]\n",
    "\n",
    "print \"\\n10 Least Cool Words:\"\n",
    "for word in cool_words[-10:]:\n",
    "    print word[1], word[0]\n",
    "    \n",
    "print \"\\n10 Funniest Words:\"\n",
    "for word in funny_words[:10]:\n",
    "    print word[1], word[0]\n",
    "\n",
    "print \"\\n10 Least Funny Words:\"\n",
    "for word in funny_words[-10:]:\n",
    "    print word[1], word[0]\n",
    "    \n",
    "print \"\\n10 Most Useful Words:\"\n",
    "for word in useful_words[:10]:\n",
    "    print word[1], word[0]\n",
    "\n",
    "print \"\\n10 Least Useful Words:\"\n",
    "for word in useful_words[-10:]:\n",
    "    print word[1], word[0]"
   ]
  },
  {
   "cell_type": "code",
   "execution_count": 29,
   "metadata": {
    "collapsed": false
   },
   "outputs": [
    {
     "name": "stdout",
     "output_type": "stream",
     "text": [
      "Useful\n",
      "[[37961 24225]\n",
      " [14053 23761]]\n",
      "False Positive Rate: 0.389557135046\n",
      "False Negative Rate: 0.371634844238\n",
      "True Positive Rate: 0.495165256533\n",
      "True Negative Rate: 0.729822740032\n",
      "Positive Accuracy: 0.620510984993\n",
      "Negative Accuracy: 0.604862843588\n",
      "Cross Validated Accuracy on Sample: 0.606789924084\n",
      "Cross Validated AUC on Sample: 0.648357021728\n",
      "Train Set Accuracy on Sample: 0.61722\n",
      "\n",
      "Funny\n",
      "[[51809 30777]\n",
      " [ 5808 11606]]\n",
      "False Positive Rate: 0.37266606931\n",
      "False Negative Rate: 0.333524750201\n",
      "True Positive Rate: 0.273836207914\n",
      "True Negative Rate: 0.899196417724\n",
      "Positive Accuracy: 0.647524621411\n",
      "Negative Accuracy: 0.628314709203\n",
      "Cross Validated Accuracy on Sample: 0.626159901499\n",
      "Cross Validated AUC on Sample: 0.679360742285\n",
      "Train Set Accuracy on Sample: 0.63415\n",
      "\n",
      "Cool\n",
      "[[50217 27853]\n",
      " [ 8835 13095]]\n",
      "False Positive Rate: 0.356769565774\n",
      "False Negative Rate: 0.402872777018\n",
      "True Positive Rate: 0.319795838625\n",
      "True Negative Rate: 0.850386100386\n",
      "Positive Accuracy: 0.57528499772\n",
      "Negative Accuracy: 0.6432432953\n",
      "Cross Validated Accuracy on Sample: 0.622059980425\n",
      "Cross Validated AUC on Sample: 0.645712321768\n",
      "Train Set Accuracy on Sample: 0.63312\n",
      "\n"
     ]
    }
   ],
   "source": [
    "u_tune = 0.0\n",
    "f_tune = 0.0\n",
    "c_tune = 0.0\n",
    "\n",
    "weights = {0:1/(1 - frac_useful + u_tune), 1:1/(frac_useful - u_tune)}\n",
    "svm = LinearSVC(C=0.001, penalty='l2', class_weight='balanced') #initialize logistic regression model\n",
    "\n",
    "rand = RandomForestClassifier(n_estimators=500, criterion='gini', \n",
    "                              max_features= 17, max_depth=15, class_weight='balanced_subsample')\n",
    "\n",
    "\n",
    "useful_words = test_model(x, y_useful, svm, \"Useful\")\n",
    "funny_words = test_model(x, y_funny, \n",
    "                         svm, \"Funny\")\n",
    "cool_words = test_model(x, y_cool, \n",
    "                        svm, \"Cool\")"
   ]
  }
 ],
 "metadata": {
  "anaconda-cloud": {},
  "kernelspec": {
   "display_name": "Python [Root]",
   "language": "python",
   "name": "Python [Root]"
  },
  "language_info": {
   "codemirror_mode": {
    "name": "ipython",
    "version": 2
   },
   "file_extension": ".py",
   "mimetype": "text/x-python",
   "name": "python",
   "nbconvert_exporter": "python",
   "pygments_lexer": "ipython2",
   "version": "2.7.12"
  }
 },
 "nbformat": 4,
 "nbformat_minor": 0
}
